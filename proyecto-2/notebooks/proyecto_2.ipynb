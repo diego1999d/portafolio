{
 "cells": [
  {
   "cell_type": "markdown",
   "metadata": {},
   "source": [
    "-----"
   ]
  },
  {
   "cell_type": "markdown",
   "metadata": {
    "id": "3rYiDeEH0q0f"
   },
   "source": [
    "# ¿Cuál es la mejor tarifa?\n",
    "\n",
    "Trabajas como analista para el operador de telecomunicaciones Megaline. La empresa ofrece a sus clientes dos tarifas de prepago, Surf y Ultimate. El departamento comercial quiere saber cuál de las tarifas genera más ingresos para poder ajustar el presupuesto de publicidad.\n",
    "\n",
    "Vas a realizar un análisis preliminar de las tarifas basado en una selección de clientes relativamente pequeña. Tendrás los datos de 500 clientes de Megaline: quiénes son los clientes, de dónde son, qué tarifa usan, así como la cantidad de llamadas que hicieron y los mensajes de texto que enviaron en 2018. Tu trabajo es analizar el comportamiento de los clientes y determinar qué tarifa de prepago genera más ingresos."
   ]
  },
  {
   "cell_type": "markdown",
   "metadata": {
    "id": "VNddPNRQ0q0w"
   },
   "source": [
    "# Introduccion del proyecto\n",
    "En este pryecto vamos a revisar una muestra de usuarios que utilizan planes de telefonia diferentes, el objetivo sera comparar ambos planes y ver cual es el mejor entre ellos. Se utilizaran diferentes tipos de data frame que contienen datos importantes sobre los usuarios y el manejo de los planes;  los cuales se examinaran a detalle y se identificaran errores que puedan dificultar el analisis de los datos. Posteriormente se realizaran calculos matematicos y graficos para interpretar como es que se comportan ambas muestras, y a partir de ahi realizaremos hipotesis que responderan nuestra principal cuestion, que es saber cual de los 2 planes es mas conveniente para los usuarios."
   ]
  },
  {
   "cell_type": "markdown",
   "metadata": {
    "id": "MQi4IPy70q0y"
   },
   "source": [
    "## Inicialización"
   ]
  },
  {
   "cell_type": "code",
   "execution_count": 1,
   "metadata": {
    "id": "MtYIuBxu0q0z"
   },
   "outputs": [],
   "source": [
    "# Cargar librerías necesarias para análisis y visualización\n",
    "import pandas as pd             # para trabajar con dataframes\n",
    "import numpy as np              # para cálculos matemáticos y estadísticas básicas\n",
    "import matplotlib.pyplot as plt # para gráficos estáticos\n",
    "import seaborn as sns           # para gráficos avanzados\n",
    "\n",
    "from scipy import stats as st   # para pruebas estadísticas\n",
    "from datetime import datetime   # para trabajar con fechas\n"
   ]
  },
  {
   "cell_type": "markdown",
   "metadata": {
    "id": "4ysWWC5i0q00"
   },
   "source": [
    "## Cargar datos"
   ]
  },
  {
   "cell_type": "code",
   "execution_count": 2,
   "metadata": {
    "id": "CCqPW7rS0q01"
   },
   "outputs": [],
   "source": [
    "# Carga los archivos de datos en diferentes DataFrames\n",
    "# Cargar los archivos CSV en diferentes DataFrames\n",
    "calls     = pd.read_csv('../data/megaline_calls.csv')\n",
    "internet  = pd.read_csv('../data/megaline_internet.csv')\n",
    "messages  = pd.read_csv('../data/megaline_messages.csv')\n",
    "plans     = pd.read_csv('../data/megaline_plans.csv')\n",
    "users     = pd.read_csv('../data/megaline_users.csv')\n"
   ]
  },
  {
   "cell_type": "code",
   "execution_count": 3,
   "metadata": {},
   "outputs": [
    {
     "name": "stdout",
     "output_type": "stream",
     "text": [
      "calls (137735, 4)\n"
     ]
    },
    {
     "data": {
      "text/html": [
       "<div>\n",
       "<style scoped>\n",
       "    .dataframe tbody tr th:only-of-type {\n",
       "        vertical-align: middle;\n",
       "    }\n",
       "\n",
       "    .dataframe tbody tr th {\n",
       "        vertical-align: top;\n",
       "    }\n",
       "\n",
       "    .dataframe thead th {\n",
       "        text-align: right;\n",
       "    }\n",
       "</style>\n",
       "<table border=\"1\" class=\"dataframe\">\n",
       "  <thead>\n",
       "    <tr style=\"text-align: right;\">\n",
       "      <th></th>\n",
       "      <th>id</th>\n",
       "      <th>user_id</th>\n",
       "      <th>call_date</th>\n",
       "      <th>duration</th>\n",
       "    </tr>\n",
       "  </thead>\n",
       "  <tbody>\n",
       "    <tr>\n",
       "      <th>0</th>\n",
       "      <td>1000_93</td>\n",
       "      <td>1000</td>\n",
       "      <td>2018-12-27</td>\n",
       "      <td>8.52</td>\n",
       "    </tr>\n",
       "    <tr>\n",
       "      <th>1</th>\n",
       "      <td>1000_145</td>\n",
       "      <td>1000</td>\n",
       "      <td>2018-12-27</td>\n",
       "      <td>13.66</td>\n",
       "    </tr>\n",
       "    <tr>\n",
       "      <th>2</th>\n",
       "      <td>1000_247</td>\n",
       "      <td>1000</td>\n",
       "      <td>2018-12-27</td>\n",
       "      <td>14.48</td>\n",
       "    </tr>\n",
       "  </tbody>\n",
       "</table>\n",
       "</div>"
      ],
      "text/plain": [
       "         id  user_id   call_date  duration\n",
       "0   1000_93     1000  2018-12-27      8.52\n",
       "1  1000_145     1000  2018-12-27     13.66\n",
       "2  1000_247     1000  2018-12-27     14.48"
      ]
     },
     "metadata": {},
     "output_type": "display_data"
    },
    {
     "name": "stdout",
     "output_type": "stream",
     "text": [
      "internet (104825, 4)\n"
     ]
    },
    {
     "data": {
      "text/html": [
       "<div>\n",
       "<style scoped>\n",
       "    .dataframe tbody tr th:only-of-type {\n",
       "        vertical-align: middle;\n",
       "    }\n",
       "\n",
       "    .dataframe tbody tr th {\n",
       "        vertical-align: top;\n",
       "    }\n",
       "\n",
       "    .dataframe thead th {\n",
       "        text-align: right;\n",
       "    }\n",
       "</style>\n",
       "<table border=\"1\" class=\"dataframe\">\n",
       "  <thead>\n",
       "    <tr style=\"text-align: right;\">\n",
       "      <th></th>\n",
       "      <th>id</th>\n",
       "      <th>user_id</th>\n",
       "      <th>session_date</th>\n",
       "      <th>mb_used</th>\n",
       "    </tr>\n",
       "  </thead>\n",
       "  <tbody>\n",
       "    <tr>\n",
       "      <th>0</th>\n",
       "      <td>1000_13</td>\n",
       "      <td>1000</td>\n",
       "      <td>2018-12-29</td>\n",
       "      <td>89.86</td>\n",
       "    </tr>\n",
       "    <tr>\n",
       "      <th>1</th>\n",
       "      <td>1000_204</td>\n",
       "      <td>1000</td>\n",
       "      <td>2018-12-31</td>\n",
       "      <td>0.00</td>\n",
       "    </tr>\n",
       "    <tr>\n",
       "      <th>2</th>\n",
       "      <td>1000_379</td>\n",
       "      <td>1000</td>\n",
       "      <td>2018-12-28</td>\n",
       "      <td>660.40</td>\n",
       "    </tr>\n",
       "  </tbody>\n",
       "</table>\n",
       "</div>"
      ],
      "text/plain": [
       "         id  user_id session_date  mb_used\n",
       "0   1000_13     1000   2018-12-29    89.86\n",
       "1  1000_204     1000   2018-12-31     0.00\n",
       "2  1000_379     1000   2018-12-28   660.40"
      ]
     },
     "metadata": {},
     "output_type": "display_data"
    },
    {
     "name": "stdout",
     "output_type": "stream",
     "text": [
      "messages (76051, 3)\n"
     ]
    },
    {
     "data": {
      "text/html": [
       "<div>\n",
       "<style scoped>\n",
       "    .dataframe tbody tr th:only-of-type {\n",
       "        vertical-align: middle;\n",
       "    }\n",
       "\n",
       "    .dataframe tbody tr th {\n",
       "        vertical-align: top;\n",
       "    }\n",
       "\n",
       "    .dataframe thead th {\n",
       "        text-align: right;\n",
       "    }\n",
       "</style>\n",
       "<table border=\"1\" class=\"dataframe\">\n",
       "  <thead>\n",
       "    <tr style=\"text-align: right;\">\n",
       "      <th></th>\n",
       "      <th>id</th>\n",
       "      <th>user_id</th>\n",
       "      <th>message_date</th>\n",
       "    </tr>\n",
       "  </thead>\n",
       "  <tbody>\n",
       "    <tr>\n",
       "      <th>0</th>\n",
       "      <td>1000_125</td>\n",
       "      <td>1000</td>\n",
       "      <td>2018-12-27</td>\n",
       "    </tr>\n",
       "    <tr>\n",
       "      <th>1</th>\n",
       "      <td>1000_160</td>\n",
       "      <td>1000</td>\n",
       "      <td>2018-12-31</td>\n",
       "    </tr>\n",
       "    <tr>\n",
       "      <th>2</th>\n",
       "      <td>1000_223</td>\n",
       "      <td>1000</td>\n",
       "      <td>2018-12-31</td>\n",
       "    </tr>\n",
       "  </tbody>\n",
       "</table>\n",
       "</div>"
      ],
      "text/plain": [
       "         id  user_id message_date\n",
       "0  1000_125     1000   2018-12-27\n",
       "1  1000_160     1000   2018-12-31\n",
       "2  1000_223     1000   2018-12-31"
      ]
     },
     "metadata": {},
     "output_type": "display_data"
    },
    {
     "name": "stdout",
     "output_type": "stream",
     "text": [
      "plans (2, 8)\n"
     ]
    },
    {
     "data": {
      "text/html": [
       "<div>\n",
       "<style scoped>\n",
       "    .dataframe tbody tr th:only-of-type {\n",
       "        vertical-align: middle;\n",
       "    }\n",
       "\n",
       "    .dataframe tbody tr th {\n",
       "        vertical-align: top;\n",
       "    }\n",
       "\n",
       "    .dataframe thead th {\n",
       "        text-align: right;\n",
       "    }\n",
       "</style>\n",
       "<table border=\"1\" class=\"dataframe\">\n",
       "  <thead>\n",
       "    <tr style=\"text-align: right;\">\n",
       "      <th></th>\n",
       "      <th>messages_included</th>\n",
       "      <th>mb_per_month_included</th>\n",
       "      <th>minutes_included</th>\n",
       "      <th>usd_monthly_pay</th>\n",
       "      <th>usd_per_gb</th>\n",
       "      <th>usd_per_message</th>\n",
       "      <th>usd_per_minute</th>\n",
       "      <th>plan_name</th>\n",
       "    </tr>\n",
       "  </thead>\n",
       "  <tbody>\n",
       "    <tr>\n",
       "      <th>0</th>\n",
       "      <td>50</td>\n",
       "      <td>15360</td>\n",
       "      <td>500</td>\n",
       "      <td>20</td>\n",
       "      <td>10</td>\n",
       "      <td>0.03</td>\n",
       "      <td>0.03</td>\n",
       "      <td>surf</td>\n",
       "    </tr>\n",
       "    <tr>\n",
       "      <th>1</th>\n",
       "      <td>1000</td>\n",
       "      <td>30720</td>\n",
       "      <td>3000</td>\n",
       "      <td>70</td>\n",
       "      <td>7</td>\n",
       "      <td>0.01</td>\n",
       "      <td>0.01</td>\n",
       "      <td>ultimate</td>\n",
       "    </tr>\n",
       "  </tbody>\n",
       "</table>\n",
       "</div>"
      ],
      "text/plain": [
       "   messages_included  mb_per_month_included  minutes_included  \\\n",
       "0                 50                  15360               500   \n",
       "1               1000                  30720              3000   \n",
       "\n",
       "   usd_monthly_pay  usd_per_gb  usd_per_message  usd_per_minute plan_name  \n",
       "0               20          10             0.03            0.03      surf  \n",
       "1               70           7             0.01            0.01  ultimate  "
      ]
     },
     "metadata": {},
     "output_type": "display_data"
    },
    {
     "name": "stdout",
     "output_type": "stream",
     "text": [
      "users (500, 8)\n"
     ]
    },
    {
     "data": {
      "text/html": [
       "<div>\n",
       "<style scoped>\n",
       "    .dataframe tbody tr th:only-of-type {\n",
       "        vertical-align: middle;\n",
       "    }\n",
       "\n",
       "    .dataframe tbody tr th {\n",
       "        vertical-align: top;\n",
       "    }\n",
       "\n",
       "    .dataframe thead th {\n",
       "        text-align: right;\n",
       "    }\n",
       "</style>\n",
       "<table border=\"1\" class=\"dataframe\">\n",
       "  <thead>\n",
       "    <tr style=\"text-align: right;\">\n",
       "      <th></th>\n",
       "      <th>user_id</th>\n",
       "      <th>first_name</th>\n",
       "      <th>last_name</th>\n",
       "      <th>age</th>\n",
       "      <th>city</th>\n",
       "      <th>reg_date</th>\n",
       "      <th>plan</th>\n",
       "      <th>churn_date</th>\n",
       "    </tr>\n",
       "  </thead>\n",
       "  <tbody>\n",
       "    <tr>\n",
       "      <th>0</th>\n",
       "      <td>1000</td>\n",
       "      <td>Anamaria</td>\n",
       "      <td>Bauer</td>\n",
       "      <td>45</td>\n",
       "      <td>Atlanta-Sandy Springs-Roswell, GA MSA</td>\n",
       "      <td>2018-12-24</td>\n",
       "      <td>ultimate</td>\n",
       "      <td>NaN</td>\n",
       "    </tr>\n",
       "    <tr>\n",
       "      <th>1</th>\n",
       "      <td>1001</td>\n",
       "      <td>Mickey</td>\n",
       "      <td>Wilkerson</td>\n",
       "      <td>28</td>\n",
       "      <td>Seattle-Tacoma-Bellevue, WA MSA</td>\n",
       "      <td>2018-08-13</td>\n",
       "      <td>surf</td>\n",
       "      <td>NaN</td>\n",
       "    </tr>\n",
       "    <tr>\n",
       "      <th>2</th>\n",
       "      <td>1002</td>\n",
       "      <td>Carlee</td>\n",
       "      <td>Hoffman</td>\n",
       "      <td>36</td>\n",
       "      <td>Las Vegas-Henderson-Paradise, NV MSA</td>\n",
       "      <td>2018-10-21</td>\n",
       "      <td>surf</td>\n",
       "      <td>NaN</td>\n",
       "    </tr>\n",
       "  </tbody>\n",
       "</table>\n",
       "</div>"
      ],
      "text/plain": [
       "   user_id first_name  last_name  age                                   city  \\\n",
       "0     1000   Anamaria      Bauer   45  Atlanta-Sandy Springs-Roswell, GA MSA   \n",
       "1     1001     Mickey  Wilkerson   28        Seattle-Tacoma-Bellevue, WA MSA   \n",
       "2     1002     Carlee    Hoffman   36   Las Vegas-Henderson-Paradise, NV MSA   \n",
       "\n",
       "     reg_date      plan churn_date  \n",
       "0  2018-12-24  ultimate        NaN  \n",
       "1  2018-08-13      surf        NaN  \n",
       "2  2018-10-21      surf        NaN  "
      ]
     },
     "metadata": {},
     "output_type": "display_data"
    }
   ],
   "source": [
    "for name, df in [\n",
    "    (\"calls\", calls),\n",
    "    (\"internet\", internet),\n",
    "    (\"messages\", messages),\n",
    "    (\"plans\", plans),\n",
    "    (\"users\", users),\n",
    "]:\n",
    "    print(name, df.shape)\n",
    "    display(df.head(3))\n"
   ]
  },
  {
   "cell_type": "markdown",
   "metadata": {
    "id": "69qqoJ3r0q01"
   },
   "source": [
    "## Preparar los datos"
   ]
  },
  {
   "cell_type": "markdown",
   "metadata": {
    "id": "vUuZw80S0q01"
   },
   "source": [
    "[Los datos para este proyecto se dividen en varias tablas. Explora cada una para tener una comprensión inicial de los datos. Si es necesario, haz las correcciones requeridas en cada tabla.]"
   ]
  },
  {
   "cell_type": "markdown",
   "metadata": {
    "id": "ohBhimvH0q01"
   },
   "source": [
    "## Tarifas"
   ]
  },
  {
   "cell_type": "code",
   "execution_count": 3,
   "metadata": {
    "id": "GptqP3Q40q02"
   },
   "outputs": [
    {
     "name": "stdout",
     "output_type": "stream",
     "text": [
      "<class 'pandas.core.frame.DataFrame'>\n",
      "RangeIndex: 2 entries, 0 to 1\n",
      "Data columns (total 8 columns):\n",
      " #   Column                 Non-Null Count  Dtype  \n",
      "---  ------                 --------------  -----  \n",
      " 0   messages_included      2 non-null      int64  \n",
      " 1   mb_per_month_included  2 non-null      int64  \n",
      " 2   minutes_included       2 non-null      int64  \n",
      " 3   usd_monthly_pay        2 non-null      int64  \n",
      " 4   usd_per_gb             2 non-null      int64  \n",
      " 5   usd_per_message        2 non-null      float64\n",
      " 6   usd_per_minute         2 non-null      float64\n",
      " 7   plan_name              2 non-null      object \n",
      "dtypes: float64(2), int64(5), object(1)\n",
      "memory usage: 256.0+ bytes\n",
      "None\n",
      "       messages_included  mb_per_month_included  minutes_included  \\\n",
      "count           2.000000               2.000000          2.000000   \n",
      "mean          525.000000           23040.000000       1750.000000   \n",
      "std           671.751442           10861.160159       1767.766953   \n",
      "min            50.000000           15360.000000        500.000000   \n",
      "25%           287.500000           19200.000000       1125.000000   \n",
      "50%           525.000000           23040.000000       1750.000000   \n",
      "75%           762.500000           26880.000000       2375.000000   \n",
      "max          1000.000000           30720.000000       3000.000000   \n",
      "\n",
      "       usd_monthly_pay  usd_per_gb  usd_per_message  usd_per_minute  \n",
      "count         2.000000     2.00000         2.000000        2.000000  \n",
      "mean         45.000000     8.50000         0.020000        0.020000  \n",
      "std          35.355339     2.12132         0.014142        0.014142  \n",
      "min          20.000000     7.00000         0.010000        0.010000  \n",
      "25%          32.500000     7.75000         0.015000        0.015000  \n",
      "50%          45.000000     8.50000         0.020000        0.020000  \n",
      "75%          57.500000     9.25000         0.025000        0.025000  \n",
      "max          70.000000    10.00000         0.030000        0.030000  \n"
     ]
    }
   ],
   "source": [
    "# Imprime la información general/resumida sobre el DataFrame de las tarifas\n",
    "print(plans.info())\n",
    "print(plans.describe())"
   ]
  },
  {
   "cell_type": "code",
   "execution_count": 4,
   "metadata": {
    "id": "64xzjwL70q02"
   },
   "outputs": [
    {
     "name": "stdout",
     "output_type": "stream",
     "text": [
      "   messages_included  mb_per_month_included  minutes_included  \\\n",
      "0                 50                  15360               500   \n",
      "1               1000                  30720              3000   \n",
      "\n",
      "   usd_monthly_pay  usd_per_gb  usd_per_message  usd_per_minute plan_name  \n",
      "0               20          10             0.03            0.03      surf  \n",
      "1               70           7             0.01            0.01  ultimate  \n"
     ]
    }
   ],
   "source": [
    "# Imprime una muestra de los datos para las tarifas\n",
    "print(plans.head())\n"
   ]
  },
  {
   "cell_type": "markdown",
   "metadata": {
    "id": "mEc_3_hs0q02"
   },
   "source": [
    "A simple vista, el data frame plans no ofrece algun error llamativo, si no es una comparacion de ambos planes y lo que ofrece cada uno. No obstante, por instrucciones, redondearemos los floats ylos convertiremos en enteros para que representen minutos "
   ]
  },
  {
   "cell_type": "markdown",
   "metadata": {
    "collapsed": false,
    "id": "R3C05i1l0q03",
    "jupyter": {
     "outputs_hidden": false
    }
   },
   "source": [
    "## Corregir datos"
   ]
  },
  {
   "cell_type": "markdown",
   "metadata": {
    "id": "bIi8StZI0q03"
   },
   "source": [
    "[Corrige los problemas obvios con los datos basándote en las observaciones iniciales.]"
   ]
  },
  {
   "cell_type": "code",
   "execution_count": 5,
   "metadata": {
    "id": "Y7SVmjGn0q03"
   },
   "outputs": [
    {
     "name": "stdout",
     "output_type": "stream",
     "text": [
      "   messages included  mb per month included  minutes included  \\\n",
      "0                 50                  15360               500   \n",
      "1               1000                  30720              3000   \n",
      "\n",
      "   usd monthly pay  usd per gb  usd per message  usd per minute plan name  \n",
      "0               20          10             0.03            0.03      surf  \n",
      "1               70           7             0.01            0.01  ultimate  \n"
     ]
    }
   ],
   "source": [
    "plans.columns = plans.columns.str.replace('_', ' ')\n",
    "print(plans.head())\n"
   ]
  },
  {
   "cell_type": "markdown",
   "metadata": {
    "id": "LJir7bml0q03"
   },
   "source": [
    "## Enriquecer los datos"
   ]
  },
  {
   "cell_type": "markdown",
   "metadata": {
    "id": "eqADpCfg0q04"
   },
   "source": [
    "No considero que haya manera de hacer enriquecer los datos, se me vino a la mente hacer la conversion en la columna de mb per month included de los mega bytes a GB pero no lo considero muy necesario, por lo tanto solo lo hice por enriquecer los datos "
   ]
  },
  {
   "cell_type": "code",
   "execution_count": 6,
   "metadata": {
    "id": "gfcIEuXV0q04"
   },
   "outputs": [],
   "source": [
    "plans.rename(columns={'mb per month included': 'gb per month included'}, inplace=True)\n",
    "plans['gb per month included'] = plans['gb per month included'] / 1024"
   ]
  },
  {
   "cell_type": "code",
   "execution_count": 7,
   "metadata": {},
   "outputs": [
    {
     "name": "stdout",
     "output_type": "stream",
     "text": [
      "   messages included  gb per month included  minutes included  \\\n",
      "0                 50                   15.0               500   \n",
      "1               1000                   30.0              3000   \n",
      "\n",
      "   usd monthly pay  usd per gb  usd per message  usd per minute plan name  \n",
      "0               20          10             0.03            0.03      surf  \n",
      "1               70           7             0.01            0.01  ultimate  \n"
     ]
    }
   ],
   "source": [
    "print(plans.head())"
   ]
  },
  {
   "cell_type": "markdown",
   "metadata": {
    "id": "1n2X6WXf0q04"
   },
   "source": [
    "## Usuarios/as"
   ]
  },
  {
   "cell_type": "code",
   "execution_count": 8,
   "metadata": {
    "id": "2NgjWFqx0q05"
   },
   "outputs": [
    {
     "name": "stdout",
     "output_type": "stream",
     "text": [
      "<class 'pandas.core.frame.DataFrame'>\n",
      "RangeIndex: 500 entries, 0 to 499\n",
      "Data columns (total 8 columns):\n",
      " #   Column      Non-Null Count  Dtype \n",
      "---  ------      --------------  ----- \n",
      " 0   user_id     500 non-null    int64 \n",
      " 1   first_name  500 non-null    object\n",
      " 2   last_name   500 non-null    object\n",
      " 3   age         500 non-null    int64 \n",
      " 4   city        500 non-null    object\n",
      " 5   reg_date    500 non-null    object\n",
      " 6   plan        500 non-null    object\n",
      " 7   churn_date  34 non-null     object\n",
      "dtypes: int64(2), object(6)\n",
      "memory usage: 31.4+ KB\n",
      "None\n",
      "            user_id first_name  last_name         age  \\\n",
      "count    500.000000        500        500  500.000000   \n",
      "unique          NaN        458        399         NaN   \n",
      "top             NaN    Seymour  Wilkinson         NaN   \n",
      "freq            NaN          3          3         NaN   \n",
      "mean    1249.500000        NaN        NaN   45.486000   \n",
      "std      144.481833        NaN        NaN   16.972269   \n",
      "min     1000.000000        NaN        NaN   18.000000   \n",
      "25%     1124.750000        NaN        NaN   30.000000   \n",
      "50%     1249.500000        NaN        NaN   46.000000   \n",
      "75%     1374.250000        NaN        NaN   61.000000   \n",
      "max     1499.000000        NaN        NaN   75.000000   \n",
      "\n",
      "                                             city    reg_date  plan  \\\n",
      "count                                         500         500   500   \n",
      "unique                                         73         266     2   \n",
      "top     New York-Newark-Jersey City, NY-NJ-PA MSA  2018-02-06  surf   \n",
      "freq                                           80           5   339   \n",
      "mean                                          NaN         NaN   NaN   \n",
      "std                                           NaN         NaN   NaN   \n",
      "min                                           NaN         NaN   NaN   \n",
      "25%                                           NaN         NaN   NaN   \n",
      "50%                                           NaN         NaN   NaN   \n",
      "75%                                           NaN         NaN   NaN   \n",
      "max                                           NaN         NaN   NaN   \n",
      "\n",
      "        churn_date  \n",
      "count           34  \n",
      "unique          29  \n",
      "top     2018-12-18  \n",
      "freq             3  \n",
      "mean           NaN  \n",
      "std            NaN  \n",
      "min            NaN  \n",
      "25%            NaN  \n",
      "50%            NaN  \n",
      "75%            NaN  \n",
      "max            NaN  \n"
     ]
    }
   ],
   "source": [
    "# Información general de los usuarios\n",
    "print(users.info())\n",
    "\n",
    "# Estadísticas descriptivas básicas\n",
    "print(users.describe(include='all'))\n",
    "\n"
   ]
  },
  {
   "cell_type": "code",
   "execution_count": 9,
   "metadata": {
    "id": "1IN1L9uh0q05"
   },
   "outputs": [
    {
     "name": "stdout",
     "output_type": "stream",
     "text": [
      "   user_id first_name  last_name  age                                   city  \\\n",
      "0     1000   Anamaria      Bauer   45  Atlanta-Sandy Springs-Roswell, GA MSA   \n",
      "1     1001     Mickey  Wilkerson   28        Seattle-Tacoma-Bellevue, WA MSA   \n",
      "2     1002     Carlee    Hoffman   36   Las Vegas-Henderson-Paradise, NV MSA   \n",
      "3     1003   Reynaldo    Jenkins   52                          Tulsa, OK MSA   \n",
      "4     1004    Leonila   Thompson   40        Seattle-Tacoma-Bellevue, WA MSA   \n",
      "\n",
      "     reg_date      plan churn_date  \n",
      "0  2018-12-24  ultimate        NaN  \n",
      "1  2018-08-13      surf        NaN  \n",
      "2  2018-10-21      surf        NaN  \n",
      "3  2018-01-28      surf        NaN  \n",
      "4  2018-05-23      surf        NaN  \n"
     ]
    }
   ],
   "source": [
    "# Imprime una muestra de datos para usuarios\n",
    "print(users.head())\n"
   ]
  },
  {
   "cell_type": "markdown",
   "metadata": {
    "id": "dCZoUq4f0q06"
   },
   "source": [
    "Hay muchos datos ausentes en la columna churn date, que es la columna que representa la fecha en la que el usuario dejo de usar el servicio, no obstante, si no tiene fecha es por que el usuario seguia usando el servicio al momento que fue sustraido este data frame, por lo tanto, al ver que solo 34 celdas tienen ese dato, eliminare la columna, por que tampoco la puedo llenar con otros datos, ya que modficaria completamente el data frame y la informacion que respresenta. Asi mismo cambiaremos la columna reg_date a date time"
   ]
  },
  {
   "cell_type": "markdown",
   "metadata": {
    "id": "BX5FQh_I0q06"
   },
   "source": [
    "### Corregir los datos"
   ]
  },
  {
   "cell_type": "markdown",
   "metadata": {
    "id": "8OdKMwJv0q06"
   },
   "source": [
    "Modificaremos las columnas eliminando los guiones bajos para agilizar el si las llamamos"
   ]
  },
  {
   "cell_type": "code",
   "execution_count": 10,
   "metadata": {
    "id": "yUqX-K0C0q07"
   },
   "outputs": [],
   "source": [
    "users.columns = users.columns.str.replace('_', ' ')\n",
    "users['reg date'] = pd.to_datetime(users['reg date'])"
   ]
  },
  {
   "cell_type": "markdown",
   "metadata": {
    "id": "ycwuARJp0q07"
   },
   "source": [
    "### Enriquecer los datos"
   ]
  },
  {
   "cell_type": "markdown",
   "metadata": {
    "id": "96NIh4CJ0q08"
   },
   "source": [
    "Eliminaremos la columna churn_date ya que son muy pocos los datos que tiene, ademas de que si llenamos la informacion con otra adicional no serviria de nada"
   ]
  },
  {
   "cell_type": "code",
   "execution_count": 11,
   "metadata": {
    "id": "iq0AaBS90q08"
   },
   "outputs": [],
   "source": [
    "users.drop(columns='churn date', inplace=True)"
   ]
  },
  {
   "cell_type": "code",
   "execution_count": 12,
   "metadata": {},
   "outputs": [
    {
     "name": "stdout",
     "output_type": "stream",
     "text": [
      "   user id first name  last name  age                                   city  \\\n",
      "0     1000   Anamaria      Bauer   45  Atlanta-Sandy Springs-Roswell, GA MSA   \n",
      "1     1001     Mickey  Wilkerson   28        Seattle-Tacoma-Bellevue, WA MSA   \n",
      "2     1002     Carlee    Hoffman   36   Las Vegas-Henderson-Paradise, NV MSA   \n",
      "3     1003   Reynaldo    Jenkins   52                          Tulsa, OK MSA   \n",
      "4     1004    Leonila   Thompson   40        Seattle-Tacoma-Bellevue, WA MSA   \n",
      "\n",
      "    reg date      plan  \n",
      "0 2018-12-24  ultimate  \n",
      "1 2018-08-13      surf  \n",
      "2 2018-10-21      surf  \n",
      "3 2018-01-28      surf  \n",
      "4 2018-05-23      surf  \n"
     ]
    }
   ],
   "source": [
    "print(users.head())"
   ]
  },
  {
   "cell_type": "markdown",
   "metadata": {
    "id": "o7MeKCid0q08"
   },
   "source": [
    "## Llamadas"
   ]
  },
  {
   "cell_type": "code",
   "execution_count": 13,
   "metadata": {
    "id": "6dDlnoDm0q08"
   },
   "outputs": [
    {
     "name": "stdout",
     "output_type": "stream",
     "text": [
      "<class 'pandas.core.frame.DataFrame'>\n",
      "RangeIndex: 137735 entries, 0 to 137734\n",
      "Data columns (total 4 columns):\n",
      " #   Column     Non-Null Count   Dtype  \n",
      "---  ------     --------------   -----  \n",
      " 0   id         137735 non-null  object \n",
      " 1   user_id    137735 non-null  int64  \n",
      " 2   call_date  137735 non-null  object \n",
      " 3   duration   137735 non-null  float64\n",
      "dtypes: float64(1), int64(1), object(2)\n",
      "memory usage: 4.2+ MB\n",
      "None\n",
      "\n",
      "             user_id       duration\n",
      "count  137735.000000  137735.000000\n",
      "mean     1247.658046       6.745927\n",
      "std       139.416268       5.839241\n",
      "min      1000.000000       0.000000\n",
      "25%      1128.000000       1.290000\n",
      "50%      1247.000000       5.980000\n",
      "75%      1365.000000      10.690000\n",
      "max      1499.000000      37.600000\n",
      "\n"
     ]
    }
   ],
   "source": [
    "# Imprime la información general/resumida sobre el DataFrame de las llamadas\n",
    "# Información general del DataFrame\n",
    "print(calls.info())\n",
    "print()  # Línea en blanco para legibilidad\n",
    "\n",
    "# Estadísticas descriptivas\n",
    "print(calls.describe())\n",
    "print()\n"
   ]
  },
  {
   "cell_type": "code",
   "execution_count": 14,
   "metadata": {
    "id": "kuh1vlNB0q09"
   },
   "outputs": [
    {
     "name": "stdout",
     "output_type": "stream",
     "text": [
      "         id  user_id   call_date  duration\n",
      "0   1000_93     1000  2018-12-27      8.52\n",
      "1  1000_145     1000  2018-12-27     13.66\n",
      "2  1000_247     1000  2018-12-27     14.48\n",
      "3  1000_309     1000  2018-12-28      5.76\n",
      "4  1000_380     1000  2018-12-30      4.22\n"
     ]
    }
   ],
   "source": [
    "# Imprime una muestra de datos para las llamadas\n",
    "print(calls.head())\n"
   ]
  },
  {
   "cell_type": "markdown",
   "metadata": {
    "id": "DOAxYJSx0q09"
   },
   "source": [
    "Vamos a cambiar el nombre de las columnas eliminando los guiones bajos de nuevo, de igual manera en la columna duration, vamos a redondear los segundos a minutos, para que solo sean enteros. de igual manera vamos a eliminar los guiones bajos de id para que sea mas facil buscarlos y modificar la columna call_date de object a datetime. "
   ]
  },
  {
   "cell_type": "markdown",
   "metadata": {
    "id": "S7hzxmbX0q0-"
   },
   "source": [
    "### Corregir los datos"
   ]
  },
  {
   "cell_type": "markdown",
   "metadata": {
    "id": "YxWyAjD20q0-"
   },
   "source": [
    "[Corrige los problemas obvios con los datos basándote en las observaciones iniciales.]"
   ]
  },
  {
   "cell_type": "code",
   "execution_count": 15,
   "metadata": {
    "id": "S2r8xA4f0q0-"
   },
   "outputs": [
    {
     "name": "stdout",
     "output_type": "stream",
     "text": [
      "        id  user id  call date  duration\n",
      "0   100093     1000 2018-12-27      8.52\n",
      "1  1000145     1000 2018-12-27     13.66\n",
      "2  1000247     1000 2018-12-27     14.48\n",
      "3  1000309     1000 2018-12-28      5.76\n",
      "4  1000380     1000 2018-12-30      4.22\n"
     ]
    }
   ],
   "source": [
    "# 1. Eliminar guiones bajos en los nombres de columnas y reemplazarlos por espacios\n",
    "calls.columns = [col.replace('_', ' ') for col in calls.columns]\n",
    "\n",
    "# 2. Eliminar guiones bajos en los valores de la columna 'id'\n",
    "calls['id'] = calls['id'].str.replace('_', '', regex=False)\n",
    "\n",
    "calls['call date'] = pd.to_datetime(calls['call date'])\n",
    "print(calls.head())\n"
   ]
  },
  {
   "cell_type": "markdown",
   "metadata": {
    "id": "KrMgTrlG0q0_"
   },
   "source": [
    "### Enriquecer los datos"
   ]
  },
  {
   "cell_type": "markdown",
   "metadata": {
    "id": "a9MbmEvE0q0_"
   },
   "source": [
    "[Agrega factores adicionales a los datos si crees que pudieran ser útiles.]"
   ]
  },
  {
   "cell_type": "code",
   "execution_count": 16,
   "metadata": {
    "id": "iZ1avpA_0q0_"
   },
   "outputs": [
    {
     "name": "stdout",
     "output_type": "stream",
     "text": [
      "        id  user id  call date  duration\n",
      "0   100093     1000 2018-12-27         9\n",
      "1  1000145     1000 2018-12-27        14\n",
      "2  1000247     1000 2018-12-27        15\n",
      "3  1000309     1000 2018-12-28         6\n",
      "4  1000380     1000 2018-12-30         5\n"
     ]
    },
    {
     "data": {
      "text/plain": [
       "id                   object\n",
       "user id               int64\n",
       "call date    datetime64[ns]\n",
       "duration              int64\n",
       "dtype: object"
      ]
     },
     "execution_count": 16,
     "metadata": {},
     "output_type": "execute_result"
    }
   ],
   "source": [
    "# Redondear la duración hacia arriba al entero más cercano\n",
    "calls['duration'] = np.ceil(calls['duration']).astype(int)\n",
    "print(calls.head())\n",
    "calls.dtypes\n"
   ]
  },
  {
   "cell_type": "markdown",
   "metadata": {
    "id": "mOUZSi180q0_"
   },
   "source": [
    "## Mensajes"
   ]
  },
  {
   "cell_type": "code",
   "execution_count": 17,
   "metadata": {
    "id": "R-bYJpdV0q1A"
   },
   "outputs": [
    {
     "name": "stdout",
     "output_type": "stream",
     "text": [
      "<class 'pandas.core.frame.DataFrame'>\n",
      "RangeIndex: 76051 entries, 0 to 76050\n",
      "Data columns (total 3 columns):\n",
      " #   Column        Non-Null Count  Dtype \n",
      "---  ------        --------------  ----- \n",
      " 0   id            76051 non-null  object\n",
      " 1   user_id       76051 non-null  int64 \n",
      " 2   message_date  76051 non-null  object\n",
      "dtypes: int64(1), object(2)\n",
      "memory usage: 1.7+ MB\n",
      "            user_id\n",
      "count  76051.000000\n",
      "mean    1245.972768\n",
      "std      139.843635\n",
      "min     1000.000000\n",
      "25%     1123.000000\n",
      "50%     1251.000000\n",
      "75%     1362.000000\n",
      "max     1497.000000\n"
     ]
    }
   ],
   "source": [
    "# Imprime la información general/resumida sobre el DataFrame de los mensajes\n",
    "messages.info()\n",
    "\n",
    "# Estadísticas descriptivas si hay columnas numéricas\n",
    "print(messages.describe())\n"
   ]
  },
  {
   "cell_type": "code",
   "execution_count": 18,
   "metadata": {
    "id": "mCEl2iGE0q1A"
   },
   "outputs": [
    {
     "name": "stdout",
     "output_type": "stream",
     "text": [
      "         id  user_id message_date\n",
      "0  1000_125     1000   2018-12-27\n",
      "1  1000_160     1000   2018-12-31\n",
      "2  1000_223     1000   2018-12-31\n",
      "3  1000_251     1000   2018-12-27\n",
      "4  1000_255     1000   2018-12-26\n"
     ]
    }
   ],
   "source": [
    "# Imprime una muestra de datos para los mensajes\n",
    "print(messages.head())\n"
   ]
  },
  {
   "cell_type": "markdown",
   "metadata": {
    "id": "04xDj7KH0q1A"
   },
   "source": [
    "Cambiare la columna message_date de object a date time y de nuevo el nombre de las columnas y eliminare el guion bajo de los datos de la columna id,para que sea mas facil buscarlos "
   ]
  },
  {
   "cell_type": "markdown",
   "metadata": {
    "id": "Sprfak900q1B"
   },
   "source": [
    "### Corregir los datos"
   ]
  },
  {
   "cell_type": "markdown",
   "metadata": {
    "id": "eGw7d9j10q1B"
   },
   "source": [
    "[Corrige los problemas obvios con los datos basándote en las observaciones iniciales.]"
   ]
  },
  {
   "cell_type": "code",
   "execution_count": 19,
   "metadata": {
    "id": "vsllvkoa0q1B"
   },
   "outputs": [],
   "source": [
    "# Reemplazar guiones bajos por espacios en los nombres de las columnas\n",
    "messages.columns = messages.columns.str.replace('_', ' ')\n",
    "messages['message date'] = pd.to_datetime(messages['message date'])\n"
   ]
  },
  {
   "cell_type": "markdown",
   "metadata": {
    "id": "HvLid7iD0q1B"
   },
   "source": [
    "### Enriquecer los datos"
   ]
  },
  {
   "cell_type": "markdown",
   "metadata": {
    "id": "8nhPFKIe0q1C"
   },
   "source": [
    "[Agrega factores adicionales a los datos si crees que pudieran ser útiles.]"
   ]
  },
  {
   "cell_type": "code",
   "execution_count": 20,
   "metadata": {
    "id": "zYEXZac10q1C"
   },
   "outputs": [
    {
     "name": "stdout",
     "output_type": "stream",
     "text": [
      "        id  user id message date\n",
      "0  1000125     1000   2018-12-27\n",
      "1  1000160     1000   2018-12-31\n",
      "2  1000223     1000   2018-12-31\n",
      "3  1000251     1000   2018-12-27\n",
      "4  1000255     1000   2018-12-26\n"
     ]
    }
   ],
   "source": [
    "messages['id'] = messages['id'].str.replace('_', '', regex=False).str.replace(' ', '', regex=False)\n",
    "print(messages.head())\n"
   ]
  },
  {
   "cell_type": "markdown",
   "metadata": {
    "id": "bStkaxn40q1C"
   },
   "source": [
    "## Internet"
   ]
  },
  {
   "cell_type": "code",
   "execution_count": 21,
   "metadata": {
    "id": "e-Uz5qyn0q1C"
   },
   "outputs": [
    {
     "name": "stdout",
     "output_type": "stream",
     "text": [
      "<class 'pandas.core.frame.DataFrame'>\n",
      "RangeIndex: 104825 entries, 0 to 104824\n",
      "Data columns (total 4 columns):\n",
      " #   Column        Non-Null Count   Dtype  \n",
      "---  ------        --------------   -----  \n",
      " 0   id            104825 non-null  object \n",
      " 1   user_id       104825 non-null  int64  \n",
      " 2   session_date  104825 non-null  object \n",
      " 3   mb_used       104825 non-null  float64\n",
      "dtypes: float64(1), int64(1), object(2)\n",
      "memory usage: 3.2+ MB\n",
      "None\n",
      "             user_id        mb_used\n",
      "count  104825.000000  104825.000000\n",
      "mean     1242.496361     366.713701\n",
      "std       142.053913     277.170542\n",
      "min      1000.000000       0.000000\n",
      "25%      1122.000000     136.080000\n",
      "50%      1236.000000     343.980000\n",
      "75%      1367.000000     554.610000\n",
      "max      1499.000000    1693.470000\n"
     ]
    }
   ],
   "source": [
    "# Imprime la información general/resumida sobre el DataFrame de internet\n",
    "# Información general del DataFrame de internet\n",
    "print(internet.info())\n",
    "\n",
    "# Estadísticas resumidas\n",
    "print(internet.describe())\n"
   ]
  },
  {
   "cell_type": "code",
   "execution_count": 22,
   "metadata": {
    "id": "9r3x_XLw0q1C"
   },
   "outputs": [
    {
     "name": "stdout",
     "output_type": "stream",
     "text": [
      "         id  user_id session_date  mb_used\n",
      "0   1000_13     1000   2018-12-29    89.86\n",
      "1  1000_204     1000   2018-12-31     0.00\n",
      "2  1000_379     1000   2018-12-28   660.40\n",
      "3  1000_413     1000   2018-12-26   270.99\n",
      "4  1000_442     1000   2018-12-27   880.22\n"
     ]
    }
   ],
   "source": [
    "# Muestra de los primeros registros\n",
    "print(internet.head())\n"
   ]
  },
  {
   "cell_type": "markdown",
   "metadata": {
    "id": "EzOG5ik30q1D"
   },
   "source": [
    "A simple revision de nuevo cambiar la columna session_date de object a date time, y por mejorar diccion, eliminar los guiones bajos; planeaba cambiar de mega byte a gyga byte, pero creo que aqui no serviria de mucho"
   ]
  },
  {
   "cell_type": "markdown",
   "metadata": {
    "id": "yA0tkPFg0q1D"
   },
   "source": [
    "### Corregir los datos"
   ]
  },
  {
   "cell_type": "markdown",
   "metadata": {
    "id": "zlZMuIEK0q1D"
   },
   "source": [
    "[Corrige los problemas obvios con los datos basándote en las observaciones iniciales.]"
   ]
  },
  {
   "cell_type": "code",
   "execution_count": 23,
   "metadata": {
    "id": "zVeanzdd0q1E"
   },
   "outputs": [],
   "source": [
    "internet.columns = internet.columns.str.replace('_', ' ')\n",
    "internet['session date'] = pd.to_datetime(internet['session date'])\n"
   ]
  },
  {
   "cell_type": "markdown",
   "metadata": {
    "id": "e8_mLF4a0q1E"
   },
   "source": [
    "### Enriquecer los datos"
   ]
  },
  {
   "cell_type": "markdown",
   "metadata": {
    "id": "xhNdn2tE0q1E"
   },
   "source": [
    "[Agrega factores adicionales a los datos si crees que pudieran ser útiles.]"
   ]
  },
  {
   "cell_type": "code",
   "execution_count": 24,
   "metadata": {
    "id": "ESiYPIEK0q1E"
   },
   "outputs": [
    {
     "name": "stdout",
     "output_type": "stream",
     "text": [
      "        id  user id session date  mb used\n",
      "0   100013     1000   2018-12-29    89.86\n",
      "1  1000204     1000   2018-12-31     0.00\n",
      "2  1000379     1000   2018-12-28   660.40\n",
      "3  1000413     1000   2018-12-26   270.99\n",
      "4  1000442     1000   2018-12-27   880.22\n"
     ]
    }
   ],
   "source": [
    "internet['id'] = internet['id'].str.replace(r'[_\\s]+', '', regex=True)\n",
    "print(internet.head())\n"
   ]
  },
  {
   "cell_type": "markdown",
   "metadata": {
    "id": "3UA2cqIW0q1E"
   },
   "source": [
    "## Estudiar las condiciones de las tarifas"
   ]
  },
  {
   "cell_type": "markdown",
   "metadata": {
    "id": "T86Sqltq0q1F"
   },
   "source": [
    "[Es sumamente importante entender cómo funcionan las tarifas, cómo se les cobra a los usuarios en función de su plan de suscripción. Así que te sugerimos imprimir la información de la tarifa para ver una vez más sus condiciones.]"
   ]
  },
  {
   "cell_type": "code",
   "execution_count": 25,
   "metadata": {
    "id": "i409op8p0q1F"
   },
   "outputs": [
    {
     "name": "stdout",
     "output_type": "stream",
     "text": [
      "   messages included  gb per month included  minutes included  \\\n",
      "0                 50                   15.0               500   \n",
      "1               1000                   30.0              3000   \n",
      "\n",
      "   usd monthly pay  usd per gb  usd per message  usd per minute plan name  \n",
      "0               20          10             0.03            0.03      surf  \n",
      "1               70           7             0.01            0.01  ultimate  \n"
     ]
    }
   ],
   "source": [
    "# Imprime las condiciones de la tarifa y asegúrate de que te quedan claras\n",
    "print(plans)\n"
   ]
  },
  {
   "cell_type": "markdown",
   "metadata": {},
   "source": [
    "\n",
    "Al revisar la tabla de tarifas, se pueden observar dos planes con características distintas.\n",
    "\n",
    "El plan Surf cuesta 20 dólares al mes e incluye 500 minutos, 50 SMS y 15 GB de datos. Si se exceden esos límites, cada minuto adicional cuesta 3 centavos, cada SMS adicional también cuesta 3 centavos, y cada GB extra cuesta 10 dólares.\n",
    "\n",
    "Por otro lado, el plan Ultimate cuesta 70 dólares al mes, pero ofrece mucho más: 3000 minutos, 1000 SMS y 30 GB de datos. Si el usuario se pasa de esos límites, cada minuto extra cuesta solo 1 centavo, cada SMS extra también 1 centavo, y cada GB adicional cuesta 7 dólares.\n",
    "\n",
    "En resumen, Surf es una opción más económica pensada para quienes no usan tanto el servicio, mientras que Ultimate está enfocado en usuarios que consumen más y podrían beneficiarse de límites más altos y excedentes más baratos."
   ]
  },
  {
   "cell_type": "markdown",
   "metadata": {
    "id": "hMR1tP5d0q1F"
   },
   "source": [
    "## Agregar datos por usuario\n",
    "\n",
    "[Ahora que los datos están limpios, agrega los datos por usuario y por periodo para que solo haya un registro por usuario y por periodo. Esto facilitará mucho el análisis posterior.]"
   ]
  },
  {
   "cell_type": "markdown",
   "metadata": {},
   "source": []
  },
  {
   "cell_type": "code",
   "execution_count": 26,
   "metadata": {
    "id": "A332cedB0q1G"
   },
   "outputs": [
    {
     "name": "stdout",
     "output_type": "stream",
     "text": [
      "    user id    month  calls made\n",
      "0      1000  2018-12          16\n",
      "1      1001  2018-08          27\n",
      "2      1001  2018-09          49\n",
      "3      1001  2018-10          65\n",
      "4      1001  2018-11          64\n",
      "5      1001  2018-12          56\n",
      "6      1002  2018-10          11\n",
      "7      1002  2018-11          55\n",
      "8      1002  2018-12          47\n",
      "9      1003  2018-12         149\n",
      "10     1004  2018-05          21\n",
      "11     1004  2018-06          44\n",
      "12     1004  2018-07          49\n",
      "13     1004  2018-08          49\n",
      "14     1004  2018-09          42\n",
      "15     1004  2018-10          61\n",
      "16     1004  2018-11          54\n",
      "17     1004  2018-12          50\n",
      "18     1005  2018-12          59\n",
      "19     1006  2018-11           2\n"
     ]
    }
   ],
   "source": [
    "# Crear una nueva columna 'month' a partir de 'call date'\n",
    "calls['month'] = calls['call date'].dt.to_period('M')\n",
    "\n",
    "# Agrupar por usuario y mes, y contar llamadas\n",
    "calls_per_month = calls.groupby(['user id', 'month'])['id'].count().reset_index()\n",
    "\n",
    "# Renombrar la columna de conteo\n",
    "calls_per_month.rename(columns={'id': 'calls made'}, inplace=True)\n",
    "\n",
    "# Mostrar resultado\n",
    "print(calls_per_month.head(20))\n",
    "\n"
   ]
  },
  {
   "cell_type": "code",
   "execution_count": 27,
   "metadata": {
    "id": "aw2cmuql0q1G"
   },
   "outputs": [
    {
     "name": "stdout",
     "output_type": "stream",
     "text": [
      "    user id    month  minutes used\n",
      "0      1000  2018-12           124\n",
      "1      1001  2018-08           182\n",
      "2      1001  2018-09           315\n",
      "3      1001  2018-10           393\n",
      "4      1001  2018-11           426\n",
      "5      1001  2018-12           412\n",
      "6      1002  2018-10            59\n",
      "7      1002  2018-11           386\n",
      "8      1002  2018-12           384\n",
      "9      1003  2018-12          1104\n",
      "10     1004  2018-05           193\n",
      "11     1004  2018-06           275\n",
      "12     1004  2018-07           381\n",
      "13     1004  2018-08           354\n",
      "14     1004  2018-09           301\n",
      "15     1004  2018-10           365\n",
      "16     1004  2018-11           476\n",
      "17     1004  2018-12           427\n",
      "18     1005  2018-12           496\n",
      "19     1006  2018-11            10\n"
     ]
    }
   ],
   "source": [
    "# Calcula la cantidad de minutos usados por cada usuario al mes. Guarda el resultado.\n",
    "# Asegurarse de que hay una columna de mes\n",
    "calls['month'] = calls['call date'].dt.to_period('M')\n",
    "\n",
    "# Agrupar por usuario y mes, y sumar la duración total\n",
    "minutes_per_month = calls.groupby(['user id', 'month'])['duration'].sum().reset_index()\n",
    "\n",
    "# Renombrar la columna para mayor claridad\n",
    "minutes_per_month.rename(columns={'duration': 'minutes used'}, inplace=True)\n",
    "\n",
    "# Mostrar una muestra del resultado\n",
    "print(minutes_per_month.head(20))\n",
    "\n"
   ]
  },
  {
   "cell_type": "code",
   "execution_count": 28,
   "metadata": {
    "id": "CcQvNHn60q1G"
   },
   "outputs": [
    {
     "name": "stdout",
     "output_type": "stream",
     "text": [
      "    user id    month  messages sent\n",
      "0      1000  2018-12             11\n",
      "1      1001  2018-08             30\n",
      "2      1001  2018-09             44\n",
      "3      1001  2018-10             53\n",
      "4      1001  2018-11             36\n",
      "5      1001  2018-12             44\n",
      "6      1002  2018-10             15\n",
      "7      1002  2018-11             32\n",
      "8      1002  2018-12             41\n",
      "9      1003  2018-12             50\n",
      "10     1004  2018-05              7\n",
      "11     1004  2018-06             18\n",
      "12     1004  2018-07             26\n",
      "13     1004  2018-08             25\n",
      "14     1004  2018-09             21\n",
      "15     1004  2018-10             24\n",
      "16     1004  2018-11             25\n",
      "17     1004  2018-12             31\n",
      "18     1005  2018-12             11\n",
      "19     1006  2018-11             15\n"
     ]
    }
   ],
   "source": [
    "# Calcula el número de mensajes enviados por cada usuario al mes. Guarda el resultado.\n",
    "# Asegurarse de que hay una columna de mes\n",
    "messages['month'] = messages['message date'].dt.to_period('M')\n",
    "\n",
    "# Agrupar por usuario y mes, y contar los mensajes\n",
    "messages_per_month = messages.groupby(['user id', 'month'])['id'].count().reset_index()\n",
    "\n",
    "# Renombrar la columna para mayor claridad\n",
    "messages_per_month.rename(columns={'id': 'messages sent'}, inplace=True)\n",
    "\n",
    "# Mostrar una muestra del resultado\n",
    "print(messages_per_month.head(20))\n",
    "\n"
   ]
  },
  {
   "cell_type": "code",
   "execution_count": 29,
   "metadata": {
    "id": "H1AqN2eG0q1H"
   },
   "outputs": [
    {
     "name": "stdout",
     "output_type": "stream",
     "text": [
      "    user id    month  gb used\n",
      "0      1000  2018-12      2.0\n",
      "1      1001  2018-08      7.0\n",
      "2      1001  2018-09     14.0\n",
      "3      1001  2018-10     22.0\n",
      "4      1001  2018-11     19.0\n",
      "5      1001  2018-12     19.0\n",
      "6      1002  2018-10      7.0\n",
      "7      1002  2018-11     19.0\n",
      "8      1002  2018-12     15.0\n",
      "9      1003  2018-12     27.0\n",
      "10     1004  2018-05      7.0\n",
      "11     1004  2018-06     21.0\n",
      "12     1004  2018-07     24.0\n",
      "13     1004  2018-08     28.0\n",
      "14     1004  2018-09     19.0\n",
      "15     1004  2018-10     15.0\n",
      "16     1004  2018-11     22.0\n",
      "17     1004  2018-12     21.0\n",
      "18     1005  2018-12     17.0\n",
      "19     1006  2018-11      3.0\n"
     ]
    }
   ],
   "source": [
    "# Crear la columna del mes\n",
    "internet['month'] = internet['session date'].dt.to_period('M')\n",
    "\n",
    "# Agrupar por usuario y mes, sumando el tráfico en megabytes\n",
    "internet_per_month = internet.groupby(['user id', 'month'])['mb used'].sum().reset_index()\n",
    "\n",
    "# Renombrar la columna de 'mb used' a 'gb used'\n",
    "internet_per_month.rename(columns={'mb used': 'gb used'}, inplace=True)\n",
    "\n",
    "# Convertir los datos a GB y redondear hacia arriba\n",
    "internet_per_month['gb used'] = (internet_per_month['gb used'] / 1024).apply(np.ceil)\n",
    "\n",
    "# Mostrar el resultado\n",
    "print(internet_per_month.head(20))\n",
    "\n"
   ]
  },
  {
   "cell_type": "markdown",
   "metadata": {
    "id": "VDfYXnj80q1H"
   },
   "source": [
    "[Junta los datos agregados en un DataFrame para que haya un registro que represente lo que consumió un usuario único en un mes determinado.]"
   ]
  },
  {
   "cell_type": "code",
   "execution_count": 30,
   "metadata": {
    "id": "FW99ykyf0q1H"
   },
   "outputs": [
    {
     "name": "stdout",
     "output_type": "stream",
     "text": [
      "    user id    month  calls made  minutes used  messages sent  gb used\n",
      "0      1000  2018-12        16.0         124.0           11.0      2.0\n",
      "1      1001  2018-08        27.0         182.0           30.0      7.0\n",
      "2      1001  2018-09        49.0         315.0           44.0     14.0\n",
      "3      1001  2018-10        65.0         393.0           53.0     22.0\n",
      "4      1001  2018-11        64.0         426.0           36.0     19.0\n",
      "5      1001  2018-12        56.0         412.0           44.0     19.0\n",
      "6      1002  2018-10        11.0          59.0           15.0      7.0\n",
      "7      1002  2018-11        55.0         386.0           32.0     19.0\n",
      "8      1002  2018-12        47.0         384.0           41.0     15.0\n",
      "9      1003  2018-12       149.0        1104.0           50.0     27.0\n",
      "10     1004  2018-05        21.0         193.0            7.0      7.0\n",
      "11     1004  2018-06        44.0         275.0           18.0     21.0\n",
      "12     1004  2018-07        49.0         381.0           26.0     24.0\n",
      "13     1004  2018-08        49.0         354.0           25.0     28.0\n",
      "14     1004  2018-09        42.0         301.0           21.0     19.0\n",
      "15     1004  2018-10        61.0         365.0           24.0     15.0\n",
      "16     1004  2018-11        54.0         476.0           25.0     22.0\n",
      "17     1004  2018-12        50.0         427.0           31.0     21.0\n",
      "18     1005  2018-12        59.0         496.0           11.0     17.0\n",
      "19     1006  2018-11         2.0          10.0           15.0      3.0\n"
     ]
    }
   ],
   "source": [
    "# Fusiona los datos de llamadas, minutos, mensajes e Internet con base en user_id y month\n",
    "# Fusionar llamadas con minutos\n",
    "calls_data = calls_per_month.merge(minutes_per_month, on=['user id', 'month'], how='outer')\n",
    "\n",
    "# Fusionar con mensajes\n",
    "calls_messages_data = calls_data.merge(messages_per_month, on=['user id', 'month'], how='outer')\n",
    "\n",
    "# Fusionar con internet\n",
    "usage_data = calls_messages_data.merge(internet_per_month, on=['user id', 'month'], how='outer')\n",
    "\n",
    "# Revisar el resultado\n",
    "print(usage_data.head(20))\n",
    "\n"
   ]
  },
  {
   "cell_type": "code",
   "execution_count": 31,
   "metadata": {
    "id": "0dNOXHag0q1H"
   },
   "outputs": [
    {
     "name": "stdout",
     "output_type": "stream",
     "text": [
      "    user id    month  calls made  minutes used  messages sent  gb used  \\\n",
      "0      1000  2018-12        16.0         124.0           11.0      2.0   \n",
      "1      1001  2018-08        27.0         182.0           30.0      7.0   \n",
      "2      1001  2018-09        49.0         315.0           44.0     14.0   \n",
      "3      1001  2018-10        65.0         393.0           53.0     22.0   \n",
      "4      1001  2018-11        64.0         426.0           36.0     19.0   \n",
      "5      1001  2018-12        56.0         412.0           44.0     19.0   \n",
      "6      1002  2018-10        11.0          59.0           15.0      7.0   \n",
      "7      1002  2018-11        55.0         386.0           32.0     19.0   \n",
      "8      1002  2018-12        47.0         384.0           41.0     15.0   \n",
      "9      1003  2018-12       149.0        1104.0           50.0     27.0   \n",
      "10     1004  2018-05        21.0         193.0            7.0      7.0   \n",
      "11     1004  2018-06        44.0         275.0           18.0     21.0   \n",
      "12     1004  2018-07        49.0         381.0           26.0     24.0   \n",
      "13     1004  2018-08        49.0         354.0           25.0     28.0   \n",
      "14     1004  2018-09        42.0         301.0           21.0     19.0   \n",
      "15     1004  2018-10        61.0         365.0           24.0     15.0   \n",
      "16     1004  2018-11        54.0         476.0           25.0     22.0   \n",
      "17     1004  2018-12        50.0         427.0           31.0     21.0   \n",
      "18     1005  2018-12        59.0         496.0           11.0     17.0   \n",
      "19     1006  2018-11         2.0          10.0           15.0      3.0   \n",
      "\n",
      "        plan  usd monthly pay  minutes included  messages included  \\\n",
      "0   ultimate               70              3000               1000   \n",
      "1       surf               20               500                 50   \n",
      "2       surf               20               500                 50   \n",
      "3       surf               20               500                 50   \n",
      "4       surf               20               500                 50   \n",
      "5       surf               20               500                 50   \n",
      "6       surf               20               500                 50   \n",
      "7       surf               20               500                 50   \n",
      "8       surf               20               500                 50   \n",
      "9       surf               20               500                 50   \n",
      "10      surf               20               500                 50   \n",
      "11      surf               20               500                 50   \n",
      "12      surf               20               500                 50   \n",
      "13      surf               20               500                 50   \n",
      "14      surf               20               500                 50   \n",
      "15      surf               20               500                 50   \n",
      "16      surf               20               500                 50   \n",
      "17      surf               20               500                 50   \n",
      "18      surf               20               500                 50   \n",
      "19  ultimate               70              3000               1000   \n",
      "\n",
      "    gb per month included  usd per minute  usd per message  usd per gb  \n",
      "0                    30.0            0.01             0.01           7  \n",
      "1                    15.0            0.03             0.03          10  \n",
      "2                    15.0            0.03             0.03          10  \n",
      "3                    15.0            0.03             0.03          10  \n",
      "4                    15.0            0.03             0.03          10  \n",
      "5                    15.0            0.03             0.03          10  \n",
      "6                    15.0            0.03             0.03          10  \n",
      "7                    15.0            0.03             0.03          10  \n",
      "8                    15.0            0.03             0.03          10  \n",
      "9                    15.0            0.03             0.03          10  \n",
      "10                   15.0            0.03             0.03          10  \n",
      "11                   15.0            0.03             0.03          10  \n",
      "12                   15.0            0.03             0.03          10  \n",
      "13                   15.0            0.03             0.03          10  \n",
      "14                   15.0            0.03             0.03          10  \n",
      "15                   15.0            0.03             0.03          10  \n",
      "16                   15.0            0.03             0.03          10  \n",
      "17                   15.0            0.03             0.03          10  \n",
      "18                   15.0            0.03             0.03          10  \n",
      "19                   30.0            0.01             0.01           7  \n"
     ]
    }
   ],
   "source": [
    "# Añade la información de la tarifa\n",
    "# Primero, unimos users con plans para tener los detalles de tarifa por usuario\n",
    "users_with_plans = users.merge(plans, left_on='plan', right_on='plan name', how='left')\n",
    "\n",
    "# Luego, unimos esa información con usage_data por 'user id'\n",
    "usage_data = usage_data.merge(users_with_plans[['user id', 'plan', 'usd monthly pay',\n",
    "                                                'minutes included', 'messages included',\n",
    "                                                'gb per month included',\n",
    "                                                'usd per minute', 'usd per message', 'usd per gb']],\n",
    "                              on='user id', how='left')\n",
    "\n",
    "print(usage_data.head(20))"
   ]
  },
  {
   "cell_type": "markdown",
   "metadata": {
    "id": "1IwGo4wg0q1I"
   },
   "source": [
    "[Calcula los ingresos mensuales por usuario (resta el límite del paquete gratuito del número total de llamadas, mensajes de texto y datos; multiplica el resultado por el valor del plan de llamadas; añade la tarifa mensual en función del plan de llamadas). Nota: Dadas las condiciones del plan, ¡esto podría no ser tan trivial como un par de líneas! Así que no pasa nada si dedicas algo de tiempo a ello.]"
   ]
  },
  {
   "cell_type": "code",
   "execution_count": 32,
   "metadata": {
    "id": "5FGCf_c60q1I"
   },
   "outputs": [
    {
     "name": "stdout",
     "output_type": "stream",
     "text": [
      "['user id', 'month', 'calls made', 'minutes used', 'messages sent', 'gb used', 'plan', 'usd monthly pay', 'minutes included', 'messages included', 'gb per month included', 'usd per minute', 'usd per message', 'usd per gb']\n"
     ]
    }
   ],
   "source": [
    "print(usage_data.columns.tolist())"
   ]
  },
  {
   "cell_type": "code",
   "execution_count": 33,
   "metadata": {},
   "outputs": [
    {
     "name": "stdout",
     "output_type": "stream",
     "text": [
      "    user id    month      plan  total monthly revenue\n",
      "0      1000  2018-12  ultimate                  70.00\n",
      "1      1001  2018-08      surf                  20.00\n",
      "2      1001  2018-09      surf                  20.00\n",
      "3      1001  2018-10      surf                  90.09\n",
      "4      1001  2018-11      surf                  60.00\n",
      "5      1001  2018-12      surf                  60.00\n",
      "6      1002  2018-10      surf                  20.00\n",
      "7      1002  2018-11      surf                  60.00\n",
      "8      1002  2018-12      surf                  20.00\n",
      "9      1003  2018-12      surf                 158.12\n",
      "10     1004  2018-05      surf                  20.00\n",
      "11     1004  2018-06      surf                  80.00\n",
      "12     1004  2018-07      surf                 110.00\n",
      "13     1004  2018-08      surf                 150.00\n",
      "14     1004  2018-09      surf                  60.00\n",
      "15     1004  2018-10      surf                  20.00\n",
      "16     1004  2018-11      surf                  90.00\n",
      "17     1004  2018-12      surf                  80.00\n",
      "18     1005  2018-12      surf                  40.00\n",
      "19     1006  2018-11  ultimate                  70.00\n",
      "20     1006  2018-12  ultimate                  84.00\n",
      "21     1007  2018-08      surf                 110.03\n",
      "22     1007  2018-09      surf                 150.00\n",
      "23     1007  2018-10      surf                 244.62\n",
      "24     1007  2018-11      surf                 110.72\n",
      "25     1007  2018-12      surf                 163.51\n",
      "26     1008  2018-10  ultimate                  70.00\n",
      "27     1008  2018-11  ultimate                  70.00\n",
      "28     1008  2018-12  ultimate                  70.00\n",
      "29     1009  2018-05      surf                  71.02\n"
     ]
    }
   ],
   "source": [
    "def calcular_ingresos(row):\n",
    "    extra_minutes = max(0, row['minutes used'] - row['minutes included'])\n",
    "    extra_messages = max(0, row['messages sent'] - row['messages included'])\n",
    "    extra_gb = max(0, row['gb used'] - row['gb per month included'])\n",
    "\n",
    "    charges = (extra_minutes * row['usd per minute'] +\n",
    "               extra_messages * row['usd per message'] +\n",
    "               extra_gb * row['usd per gb'])\n",
    "\n",
    "    return row['usd monthly pay'] + charges\n",
    "\n",
    "usage_data['total monthly revenue'] = usage_data.apply(calcular_ingresos, axis=1)\n",
    "\n",
    "print(usage_data[['user id', 'month', 'plan', 'total monthly revenue']].head(30))\n",
    "\n"
   ]
  },
  {
   "cell_type": "markdown",
   "metadata": {
    "id": "-jtyHzJb0q1I"
   },
   "source": [
    "## Estudia el comportamiento de usuario"
   ]
  },
  {
   "cell_type": "markdown",
   "metadata": {
    "id": "AxU3Y0N70q1J"
   },
   "source": [
    "[Calcula algunas estadísticas descriptivas para los datos agregados y fusionados que nos sean útiles y que muestren un panorama general captado por los datos. Dibuja gráficos útiles para facilitar la comprensión. Dado que la tarea principal es comparar las tarifas y decidir cuál es más rentable, las estadísticas y gráficas deben calcularse por tarifa.]\n",
    "\n",
    "[En los comentarios hallarás pistas relevantes para las llamadas, pero no las hay para los mensajes e Internet. Sin embargo, el principio del estudio estadístico que se aplica para ellos es el mismo que para las llamadas.]"
   ]
  },
  {
   "cell_type": "markdown",
   "metadata": {
    "id": "vtW4CJEe0q1J"
   },
   "source": [
    "### Llamadas"
   ]
  },
  {
   "cell_type": "code",
   "execution_count": 34,
   "metadata": {
    "id": "Jf5v5--k0q1J"
   },
   "outputs": [
    {
     "data": {
      "image/png": "[encoded data removed]",
      "text/plain": [
       "<Figure size 1200x600 with 1 Axes>"
      ]
     },
     "metadata": {},
     "output_type": "display_data"
    }
   ],
   "source": [
    "# Compara la duración promedio de llamadas por cada plan y por cada mes. Traza un gráfico de barras para visualizarla.\n",
    "# Agrupar por mes y plan, y calcular la duración promedio de llamadas\n",
    "avg_call_duration = usage_data.groupby(['month', 'plan'])['minutes used'].mean().reset_index()\n",
    "\n",
    "# Convertir periodo a string para que se vea mejor en el gráfico\n",
    "avg_call_duration['month'] = avg_call_duration['month'].astype(str)\n",
    "\n",
    "# Graficar\n",
    "plt.figure(figsize=(12, 6))\n",
    "for plan in avg_call_duration['plan'].unique():\n",
    "    subset = avg_call_duration[avg_call_duration['plan'] == plan]\n",
    "    plt.bar(subset['month'], subset['minutes used'], label=plan, alpha=0.7)\n",
    "\n",
    "plt.title('Duración promedio de llamadas por mes y por plan')\n",
    "plt.xlabel('Mes')\n",
    "plt.ylabel('Duración promedio de llamadas (minutos)')\n",
    "plt.legend(title='Plan')\n",
    "plt.xticks(rotation=45)\n",
    "plt.tight_layout()\n",
    "plt.show()\n"
   ]
  },
  {
   "cell_type": "code",
   "execution_count": 35,
   "metadata": {
    "id": "QoLqW1S_0q1J"
   },
   "outputs": [
    {
     "data": {
      "image/png": "[encoded data removed]",
      "text/plain": [
       "<Figure size 1200x600 with 1 Axes>"
      ]
     },
     "metadata": {},
     "output_type": "display_data"
    }
   ],
   "source": [
    "# Compara el número de minutos mensuales que necesitan los usuarios de cada plan. Traza un histograma.\n",
    "import matplotlib.pyplot as plt\n",
    "\n",
    "# Crear histogramas para cada plan\n",
    "plt.figure(figsize=(12, 6))\n",
    "\n",
    "# Filtrar por cada plan\n",
    "surf_minutes = usage_data[usage_data['plan'] == 'surf']['minutes used']\n",
    "ultimate_minutes = usage_data[usage_data['plan'] == 'ultimate']['minutes used']\n",
    "\n",
    "# Histograma\n",
    "plt.hist(surf_minutes, bins=30, alpha=0.6, label='Surf')\n",
    "plt.hist(ultimate_minutes, bins=30, alpha=0.6, label='Ultimate')\n",
    "\n",
    "plt.title('Distribución del uso mensual de minutos por plan')\n",
    "plt.xlabel('Minutos usados en el mes')\n",
    "plt.ylabel('Número de usuarios')\n",
    "plt.legend(title='Plan')\n",
    "plt.grid(True)\n",
    "plt.tight_layout()\n",
    "plt.show()\n",
    "\n"
   ]
  },
  {
   "cell_type": "markdown",
   "metadata": {
    "id": "bLS9T8OH0q1K"
   },
   "source": [
    "[Calcula la media y la variable de la duración de las llamadas para averiguar si los usuarios de los distintos planes se comportan de forma diferente al realizar sus llamadas.]"
   ]
  },
  {
   "cell_type": "code",
   "execution_count": 36,
   "metadata": {
    "id": "oSndbAnt0q1K"
   },
   "outputs": [
    {
     "name": "stdout",
     "output_type": "stream",
     "text": [
      "       plan        mean           var\n",
      "0      surf  436.519741  52571.063243\n",
      "1  ultimate  434.676017  56573.632247\n"
     ]
    }
   ],
   "source": [
    "# Calcula la media y la varianza de la duración mensual de llamadas.\n",
    "# Agrupar por plan y calcular estadísticas de minutos usados\n",
    "call_stats = usage_data.groupby('plan')['minutes used'].agg(['mean', 'var']).reset_index()\n",
    "\n",
    "# Mostrar los resultados\n",
    "print(call_stats)\n",
    "\n"
   ]
  },
  {
   "cell_type": "code",
   "execution_count": 37,
   "metadata": {
    "id": "nZzoRUKc0q1K"
   },
   "outputs": [
    {
     "data": {
      "text/plain": [
       "<Figure size 1000x600 with 0 Axes>"
      ]
     },
     "metadata": {},
     "output_type": "display_data"
    },
    {
     "data": {
      "image/png": "[encoded data removed]",
      "text/plain": [
       "<Figure size 640x480 with 1 Axes>"
      ]
     },
     "metadata": {},
     "output_type": "display_data"
    }
   ],
   "source": [
    "# Traza un diagrama de caja para visualizar la distribución de la duración mensual de llamadas\n",
    "import matplotlib.pyplot as plt\n",
    "\n",
    "# Crear el diagrama de caja\n",
    "plt.figure(figsize=(10, 6))\n",
    "usage_data.boxplot(column='minutes used', by='plan', grid=False)\n",
    "\n",
    "# Ajustar etiquetas y título\n",
    "plt.title('Distribución de duración mensual de llamadas por plan')\n",
    "plt.suptitle('')  # Elimina el título automático\n",
    "plt.xlabel('Plan')\n",
    "plt.ylabel('Minutos usados por mes')\n",
    "plt.show()\n",
    "\n"
   ]
  },
  {
   "cell_type": "markdown",
   "metadata": {
    "id": "r627zBO50q1K"
   },
   "source": [
    "Podemos observar que el compartamiento de la duracion de llamadas en ambos planes es sumamente parecido. Se puede inferir que la mayoria de clientes en promedio usa entre 300 y 600 minutos, no obstante, vemos que el plan surf tiene mas datos atipicos que ultimate, lo cual soreprende por que si recordamos el plan de surf, solo permite 500 minutos al mes, y ultimate 3000 minutos. Partiendo de ese ultimo comentario, podria decir que los usuarios de surf en muchas ocasiones sobrepasan su plan y pagan mas extras, y los usuarios de ultimate pagan mas de mensualidad, pero se podria desperdician sus beneficios y no sacan buen provecho "
   ]
  },
  {
   "cell_type": "markdown",
   "metadata": {
    "id": "8idKy8Wh0q1L"
   },
   "source": [
    "### Mensajes"
   ]
  },
  {
   "cell_type": "code",
   "execution_count": 38,
   "metadata": {
    "id": "NXLxiTit0q1L"
   },
   "outputs": [
    {
     "name": "stdout",
     "output_type": "stream",
     "text": [
      "Media de mensajes enviados por plan (redondeada):\n",
      "plan\n",
      "surf        40.0\n",
      "ultimate    46.0\n",
      "Name: messages sent, dtype: float64\n"
     ]
    }
   ],
   "source": [
    "# Comprara el número de mensajes que tienden a enviar cada mes los usuarios de cada plan\n",
    "# Media de mensajes enviados por plan (redondeada)\n",
    "mean_messages = usage_data.groupby('plan')['messages sent'].mean().round()\n",
    "print(\"Media de mensajes enviados por plan (redondeada):\")\n",
    "print(mean_messages)\n"
   ]
  },
  {
   "cell_type": "code",
   "execution_count": 39,
   "metadata": {
    "id": "GRI_R7xF0q1L"
   },
   "outputs": [
    {
     "data": {
      "image/png": "[encoded data removed]",
      "text/plain": [
       "<Figure size 1000x600 with 1 Axes>"
      ]
     },
     "metadata": {},
     "output_type": "display_data"
    }
   ],
   "source": [
    "# Histograma en un solo gráfico\n",
    "plt.figure(figsize=(10, 6))\n",
    "for plan in usage_data['plan'].unique():\n",
    "    subset = usage_data[usage_data['plan'] == plan]\n",
    "    plt.hist(subset['messages sent'], bins=20, alpha=0.6, label=plan)\n",
    "\n",
    "plt.title('Distribución de mensajes enviados por plan')\n",
    "plt.xlabel('Mensajes enviados por mes')\n",
    "plt.ylabel('Cantidad de usuarios')\n",
    "plt.legend(title='Plan')\n",
    "plt.grid(True)\n",
    "plt.tight_layout()\n",
    "plt.show()\n"
   ]
  },
  {
   "cell_type": "code",
   "execution_count": 40,
   "metadata": {
    "id": "dtFwCGAp0q1M"
   },
   "outputs": [
    {
     "data": {
      "text/html": [
       "<div>\n",
       "<style scoped>\n",
       "    .dataframe tbody tr th:only-of-type {\n",
       "        vertical-align: middle;\n",
       "    }\n",
       "\n",
       "    .dataframe tbody tr th {\n",
       "        vertical-align: top;\n",
       "    }\n",
       "\n",
       "    .dataframe thead th {\n",
       "        text-align: right;\n",
       "    }\n",
       "</style>\n",
       "<table border=\"1\" class=\"dataframe\">\n",
       "  <thead>\n",
       "    <tr style=\"text-align: right;\">\n",
       "      <th></th>\n",
       "      <th>mean</th>\n",
       "      <th>var</th>\n",
       "    </tr>\n",
       "    <tr>\n",
       "      <th>plan</th>\n",
       "      <th></th>\n",
       "      <th></th>\n",
       "    </tr>\n",
       "  </thead>\n",
       "  <tbody>\n",
       "    <tr>\n",
       "      <th>surf</th>\n",
       "      <td>40.109656</td>\n",
       "      <td>1091.344231</td>\n",
       "    </tr>\n",
       "    <tr>\n",
       "      <th>ultimate</th>\n",
       "      <td>46.296233</td>\n",
       "      <td>1085.183108</td>\n",
       "    </tr>\n",
       "  </tbody>\n",
       "</table>\n",
       "</div>"
      ],
      "text/plain": [
       "               mean          var\n",
       "plan                            \n",
       "surf      40.109656  1091.344231\n",
       "ultimate  46.296233  1085.183108"
      ]
     },
     "execution_count": 40,
     "metadata": {},
     "output_type": "execute_result"
    }
   ],
   "source": [
    "# Media y varianza\n",
    "usage_data.groupby('plan')['messages sent'].agg(['mean', 'var'])"
   ]
  },
  {
   "cell_type": "code",
   "execution_count": 41,
   "metadata": {},
   "outputs": [
    {
     "data": {
      "text/plain": [
       "<AxesSubplot:title={'center':'messages sent'}, xlabel='plan'>"
      ]
     },
     "execution_count": 41,
     "metadata": {},
     "output_type": "execute_result"
    },
    {
     "data": {
      "image/png": "[encoded data removed]",
      "text/plain": [
       "<Figure size 800x600 with 1 Axes>"
      ]
     },
     "metadata": {},
     "output_type": "display_data"
    }
   ],
   "source": [
    "# Diagrama de caja\n",
    "usage_data.boxplot(column='messages sent', by='plan', figsize=(8, 6))"
   ]
  },
  {
   "cell_type": "markdown",
   "metadata": {
    "id": "390SSL480q1M"
   },
   "source": [
    "Podemos observar que los mensajes, al igual que las llamadas se comportan de manera muy parecida en ambos planes, no obstante, vemos que de nueva cuenta, parece ser que los ususarios de surf exceden un poco su limite de mensajes, y los de ultimate desperdician su plan al utilizar una cantidad muy baja de msj en comparacion de todos los que pueden usar  "
   ]
  },
  {
   "cell_type": "markdown",
   "metadata": {
    "id": "42YSypXz0q1M"
   },
   "source": [
    "### Internet"
   ]
  },
  {
   "cell_type": "code",
   "execution_count": 42,
   "metadata": {
    "id": "lSuKPtjh0q1M"
   },
   "outputs": [
    {
     "name": "stdout",
     "output_type": "stream",
     "text": [
      "Media de GB usados por plan (redondeada):\n",
      "plan\n",
      "surf        17.0\n",
      "ultimate    17.0\n",
      "Name: gb used, dtype: float64\n"
     ]
    }
   ],
   "source": [
    "# Media de GB usados por plan (redondeada)\n",
    "mean_gb = usage_data.groupby('plan')['gb used'].mean().round()\n",
    "print(\"Media de GB usados por plan (redondeada):\")\n",
    "print(mean_gb)"
   ]
  },
  {
   "cell_type": "code",
   "execution_count": 43,
   "metadata": {
    "id": "wnh8jYXi0q1N"
   },
   "outputs": [
    {
     "data": {
      "image/png": "[encoded data removed]",
      "text/plain": [
       "<Figure size 1000x600 with 1 Axes>"
      ]
     },
     "metadata": {},
     "output_type": "display_data"
    }
   ],
   "source": [
    "# Histograma en un solo gráfico\n",
    "plt.figure(figsize=(10, 6))\n",
    "for plan in usage_data['plan'].unique():\n",
    "    subset = usage_data[usage_data['plan'] == plan]\n",
    "    plt.hist(subset['gb used'], bins=20, alpha=0.6, label=plan)\n",
    "\n",
    "plt.title('Distribución de tráfico de Internet por plan')\n",
    "plt.xlabel('GB usados por mes')\n",
    "plt.ylabel('Cantidad de usuarios')\n",
    "plt.legend(title='Plan')\n",
    "plt.grid(True)\n",
    "plt.tight_layout()\n",
    "plt.show()"
   ]
  },
  {
   "cell_type": "code",
   "execution_count": 44,
   "metadata": {
    "id": "5VlyJ9ry0q1N"
   },
   "outputs": [
    {
     "data": {
      "image/png": "[encoded data removed]",
      "text/plain": [
       "<Figure size 1000x600 with 1 Axes>"
      ]
     },
     "metadata": {},
     "output_type": "display_data"
    }
   ],
   "source": [
    "# Histograma en un solo gráfico\n",
    "plt.figure(figsize=(10, 6))\n",
    "for plan in usage_data['plan'].unique():\n",
    "    subset = usage_data[usage_data['plan'] == plan]\n",
    "    plt.hist(subset['gb used'], bins=20, alpha=0.6, label=plan)\n",
    "\n",
    "plt.title('Distribución de tráfico de Internet por plan')\n",
    "plt.xlabel('GB usados por mes')\n",
    "plt.ylabel('Cantidad de usuarios')\n",
    "plt.legend(title='Plan')\n",
    "plt.grid(True)\n",
    "plt.tight_layout()\n",
    "plt.show()"
   ]
  },
  {
   "cell_type": "code",
   "execution_count": 45,
   "metadata": {},
   "outputs": [
    {
     "name": "stdout",
     "output_type": "stream",
     "text": [
      "Estadísticas del tráfico de Internet mensual por plan (en GB):\n",
      "           mean    var\n",
      "plan                  \n",
      "surf      16.83  59.47\n",
      "ultimate  17.33  58.49\n"
     ]
    }
   ],
   "source": [
    "# Media, varianza y desviación estándar del tráfico de Internet por plan\n",
    "internet_stats = usage_data.groupby('plan')['gb used'].agg(['mean', 'var']).round(2)\n",
    "\n",
    "print(\"Estadísticas del tráfico de Internet mensual por plan (en GB):\")\n",
    "print(internet_stats)"
   ]
  },
  {
   "cell_type": "code",
   "execution_count": 46,
   "metadata": {},
   "outputs": [
    {
     "data": {
      "image/png": "[encoded data removed]",
      "text/plain": [
       "<Figure size 640x480 with 1 Axes>"
      ]
     },
     "metadata": {},
     "output_type": "display_data"
    }
   ],
   "source": [
    "import matplotlib.pyplot as plt\n",
    "\n",
    "# Diagrama de caja del tráfico de Internet mensual por plan\n",
    "usage_data.boxplot(column='gb used', by='plan', grid=False)\n",
    "plt.title('Distribución mensual del uso de Internet por plan')\n",
    "plt.suptitle('')\n",
    "plt.xlabel('Plan')\n",
    "plt.ylabel('GB usados')\n",
    "plt.show()\n"
   ]
  },
  {
   "cell_type": "markdown",
   "metadata": {
    "id": "UN9zwuMP0q1N"
   },
   "source": [
    "De nueva cuenta he observado el mismo patron que con las llamadas y mensajes, se comportan de manera sumamente parceida en cuanto a consumo, no obstante, los usuarios de surf, utilizan un poco mas que su limite de 15 GB y los usuarios de ultimate desperdician sus beneficios al utilizar menos de lo permitido. de igual manera, vemos segun el diagrama de caja que el plan de surf tiene mas datos atipicos"
   ]
  },
  {
   "cell_type": "markdown",
   "metadata": {
    "id": "tCijq3260q1N"
   },
   "source": [
    "## Ingreso"
   ]
  },
  {
   "cell_type": "markdown",
   "metadata": {
    "id": "9nq5IAcy0q1O"
   },
   "source": [
    "[Del mismo modo que has estudiado el comportamiento de los usuarios, describe estadísticamente los ingresos de los planes.]"
   ]
  },
  {
   "cell_type": "code",
   "execution_count": 47,
   "metadata": {
    "id": "tz-dq_V00q1O"
   },
   "outputs": [
    {
     "name": "stdout",
     "output_type": "stream",
     "text": [
      "Estadísticas de ingresos mensuales por plan:\n",
      "           mean      var    std\n",
      "plan                           \n",
      "surf      60.71  3067.84  55.39\n",
      "ultimate  72.31   129.85  11.40\n"
     ]
    }
   ],
   "source": [
    "import matplotlib.pyplot as plt\n",
    "\n",
    "# Agrupar por plan y calcular estadísticas básicas\n",
    "revenue_stats = usage_data.groupby('plan')['total monthly revenue'].agg(['mean', 'var', 'std']).round(2)\n",
    "print(\"Estadísticas de ingresos mensuales por plan:\")\n",
    "print(revenue_stats)"
   ]
  },
  {
   "cell_type": "code",
   "execution_count": 48,
   "metadata": {
    "id": "0Y1v8ZUz0q1P"
   },
   "outputs": [
    {
     "data": {
      "image/png": "[encoded data removed]",
      "text/plain": [
       "<Figure size 1000x500 with 1 Axes>"
      ]
     },
     "metadata": {},
     "output_type": "display_data"
    }
   ],
   "source": [
    "# Histograma de ingresos por plan\n",
    "usage_data[usage_data['plan'] == 'surf']['total monthly revenue'].plot(\n",
    "    kind='hist', bins=30, alpha=0.7, label='Surf', figsize=(10,5))\n",
    "usage_data[usage_data['plan'] == 'ultimate']['total monthly revenue'].plot(\n",
    "    kind='hist', bins=30, alpha=0.7, label='Ultimate')\n",
    "plt.title('Distribución de ingresos mensuales por plan')\n",
    "plt.xlabel('Ingreso mensual ($)')\n",
    "plt.ylabel('Cantidad de usuarios')\n",
    "plt.legend()\n",
    "plt.show()"
   ]
  },
  {
   "cell_type": "code",
   "execution_count": 49,
   "metadata": {
    "id": "bYmwxyVh0q1P"
   },
   "outputs": [
    {
     "data": {
      "image/png": "[encoded data removed]",
      "text/plain": [
       "<Figure size 640x480 with 1 Axes>"
      ]
     },
     "metadata": {},
     "output_type": "display_data"
    }
   ],
   "source": [
    "# Diagrama de caja\n",
    "usage_data.boxplot(column='total monthly revenue', by='plan', grid=False)\n",
    "plt.title('Distribución de ingresos mensuales por plan')\n",
    "plt.suptitle('')\n",
    "plt.xlabel('Plan')\n",
    "plt.ylabel('Ingreso mensual ($)')\n",
    "plt.show()"
   ]
  },
  {
   "cell_type": "markdown",
   "metadata": {
    "id": "KAFidcXZ0q1P"
   },
   "source": [
    "La parte del ingreso ha sido la mas compleja de analizar, pero, vemos que en promedio ambos planes reciben una cantidad muy parecida de ingreso a pesar de que la descripcion de las tarifas dice que sur son 20 dls y ultimate 70 dls. y segun el analisis que hemos hecho, en promedio los usuarios gastan 60 mesualmente en surf y 72 en ultimate. Teniendo en cuenta los analisis pasados, de nueva cuenta, vemos que hay 2 cosas que infiero, la primera es que losusuarios de surf se exceden de sus beneficios y los usuarios de ultimate desperdician sus beneficios; y la sengunda es que a pesar de todo y que los usuarios de surf se exceden de su paquete, parece ser que sigue siendo la mejor opcion teniendo en cuenta los patrones de consumo de los usuarios."
   ]
  },
  {
   "cell_type": "markdown",
   "metadata": {
    "id": "ajJ7VKeI0q1Q"
   },
   "source": [
    "## Prueba las hipótesis estadísticas"
   ]
  },
  {
   "cell_type": "markdown",
   "metadata": {
    "id": "AdXAZ-yL0q1Q"
   },
   "source": [
    "[Prueba la hipótesis de que son diferentes los ingresos promedio procedentes de los usuarios de los planes de llamada Ultimate y Surf.]"
   ]
  },
  {
   "cell_type": "markdown",
   "metadata": {
    "id": "IQwa_hsh0q1Q"
   },
   "source": [
    "Hipótesis nula (H₀):\n",
    "No hay diferencia significativa en los ingresos promedio entre los planes Surf y Ultimate \n",
    "\n",
    "\n",
    "Hipótesis alternativa (H₁):\n",
    "Hay una diferencia significativa en los ingresos promedio entre los dos planes.\n",
    "\n",
    "\n",
    "Usaremos un valor estándar:\n",
    "α=0.05"
   ]
  },
  {
   "cell_type": "code",
   "execution_count": 50,
   "metadata": {
    "id": "nFoPNlPq0q1R"
   },
   "outputs": [
    {
     "name": "stdout",
     "output_type": "stream",
     "text": [
      "Valor p: 3.1704e-15\n",
      "\n",
      "Conclusión: Rechazamos la hipótesis nula.\n",
      "→ Hay una diferencia estadísticamente significativa entre los ingresos mensuales de los planes Surf y Ultimate.\n"
     ]
    }
   ],
   "source": [
    "from scipy import stats\n",
    "\n",
    "# Filtrar ingresos por plan\n",
    "surf_revenue = usage_data[usage_data['plan'] == 'surf']['total monthly revenue']\n",
    "ultimate_revenue = usage_data[usage_data['plan'] == 'ultimate']['total monthly revenue']\n",
    "\n",
    "# Nivel de significancia\n",
    "alpha = 0.05\n",
    "\n",
    "# Prueba t para muestras independientes\n",
    "t_stat, p_value = stats.ttest_ind(surf_revenue, ultimate_revenue, equal_var=False)\n",
    "\n",
    "# Mostrar resultados con mejor formato\n",
    "print(f'Valor p: {p_value:.4e}')  # Notación científica\n",
    "\n",
    "# Conclusión con if\n",
    "if p_value < alpha:\n",
    "    print(\"\\nConclusión: Rechazamos la hipótesis nula.\")\n",
    "    print(\"→ Hay una diferencia estadísticamente significativa entre los ingresos mensuales de los planes Surf y Ultimate.\")\n",
    "else:\n",
    "    print(\"\\nConclusión: No se puede rechazar la hipótesis nula.\")\n",
    "    print(\"→ No hay evidencia suficiente para afirmar que los ingresos de los planes sean diferentes.\")\n",
    "\n"
   ]
  },
  {
   "cell_type": "markdown",
   "metadata": {
    "id": "tCcAruM60q1R"
   },
   "source": [
    "[Prueba la hipótesis de que el ingreso promedio de los usuarios del área NY-NJ es diferente al de los usuarios de otras regiones.]"
   ]
  },
  {
   "cell_type": "markdown",
   "metadata": {
    "id": "LsBgitqj0q1R"
   },
   "source": [
    "Hipótesis:\n",
    "\n",
    "    Hipótesis nula (H₀): El ingreso promedio mensual de los usuarios del área NY-NJ es igual al de otras regiones.\n",
    "\n",
    "    Hipótesis alternativa (H₁): El ingreso promedio mensual de los usuarios del área NY-NJ es diferente al de otras regiones.\n",
    "   alpha = 0.05 "
   ]
  },
  {
   "cell_type": "code",
   "execution_count": 51,
   "metadata": {
    "id": "Cqcj7wrZ0q1S"
   },
   "outputs": [],
   "source": [
    "# Fusionar la columna 'city' al DataFrame usage_data\n",
    "usage_data = usage_data.merge(users[['user id', 'city']], on='user id', how='left')\n"
   ]
  },
  {
   "cell_type": "code",
   "execution_count": 52,
   "metadata": {},
   "outputs": [
    {
     "name": "stdout",
     "output_type": "stream",
     "text": [
      "Estadístico t: -1.62\n",
      "Valor p: 1.0667e-01\n",
      "\n",
      "Conclusión: No se puede rechazar la hipótesis nula.\n",
      "→ No hay evidencia suficiente para afirmar que los ingresos sean diferentes.\n"
     ]
    }
   ],
   "source": [
    "from scipy import stats\n",
    "\n",
    "# Separar los ingresos por grupo\n",
    "ny_nj_revenue = usage_data[usage_data['city'].str.contains('NY|NJ', regex=True)]['total monthly revenue']\n",
    "other_revenue = usage_data[~usage_data['city'].str.contains('NY|NJ', regex=True)]['total monthly revenue']\n",
    "\n",
    "# Prueba t\n",
    "t_stat, p_value = stats.ttest_ind(ny_nj_revenue, other_revenue, equal_var=False)\n",
    "\n",
    "# Alfa\n",
    "alpha = 0.05\n",
    "\n",
    "# Resultado\n",
    "print(f'Estadístico t: {t_stat:.2f}')\n",
    "print(f'Valor p: {p_value:.4e}')\n",
    "\n",
    "if p_value < alpha:\n",
    "    print(\"\\nConclusión: Rechazamos la hipótesis nula.\")\n",
    "    print(\"→ Hay una diferencia significativa entre los ingresos de NY/NJ y otras regiones.\")\n",
    "else:\n",
    "    print(\"\\nConclusión: No se puede rechazar la hipótesis nula.\")\n",
    "    print(\"→ No hay evidencia suficiente para afirmar que los ingresos sean diferentes.\")\n"
   ]
  },
  {
   "cell_type": "markdown",
   "metadata": {
    "id": "bbTR8UQO0q1T"
   },
   "source": [
    "## Conclusión general\n",
    "Conclusión final del análisis\n",
    "\n",
    "Después de todo este análisis, puedo decir que, aunque las tarifas Surf y Ultimate están diseñadas para distintos perfiles de usuarios, en la práctica los patrones de consumo entre ambos grupos terminan siendo muy parecidos. A lo largo del proyecto hemos visto constantemente que:\n",
    "\n",
    "    Los usuarios del plan Surf tienden a exceder sus beneficios, tanto en minutos, mensajes y datos. Esto genera cargos adicionales que elevan su gasto mensual por encima del pago base de $20, situándolo en un promedio de $60.71.\n",
    "\n",
    "    Por otro lado, los usuarios del plan Ultimate, a pesar de pagar una tarifa fija de $70, no alcanzan a utilizar todos los beneficios incluidos (3000 minutos, 1000 mensajes y 30 GB). El gasto promedio real es de $72.31, lo que sugiere que muchos de ellos están pagando por más de lo que realmente necesitan.\n",
    "\n",
    "Desde el punto de vista de comportamiento:\n",
    "\n",
    "    La duración de llamadas mensuales en ambos planes se comporta de manera muy parecida, con un rango de uso que va de los 300 a 600 minutos en la mayoría de los casos. A pesar de que Surf solo ofrece 500 minutos, muchos usuarios sobrepasan ese límite y pagan extra, mientras que en Ultimate el límite de 3000 minutos queda ampliamente desaprovechado.\n",
    "\n",
    "    Con los mensajes, el patrón se repite. Los usuarios de Surf se acercan o sobrepasan el límite de 50 mensajes, mientras que los de Ultimate no aprovechan sus 1000 mensajes. El comportamiento es similar, pero nuevamente el derroche de beneficios se da más en Ultimate.\n",
    "\n",
    "    En cuanto al tráfico de Internet, se observó que los usuarios de Surf sí tienden a usar un poco más que sus 15 GB incluidos, mientras que en Ultimate, donde se ofrecen 30 GB, el uso suele quedarse muy por debajo. También se identificaron más valores atípicos en Surf, lo cual tiene sentido si se considera que esos usuarios a menudo sobrepasan sus límites.\n",
    "\n",
    "Las pruebas estadísticas nos confirmaron todo esto:\n",
    "\n",
    "    Sí existe una diferencia significativa entre los ingresos mensuales de los planes Surf y Ultimate.\n",
    "\n",
    "    Pero no hay evidencia significativa de que el ingreso promedio de usuarios de la región NY-NJ sea diferente al del resto del país.\n",
    "\n",
    "En resumen:\n",
    "\n",
    "Podemos concluir que, aunque Ultimate parece más generoso sobre el papel, en la práctica los usuarios no suelen aprovechar completamente sus beneficios. En cambio, los usuarios de Surf sí utilizan intensamente su plan, aunque esto implique pagar cargos extra, y aún así su gasto promedio termina siendo inferior al de Ultimate. Esto nos hace pensar que Surf puede ser la mejor opción, al menos para el perfil de usuario que vemos en estos datos: alguien que consume con constancia, aunque sin llegar a los niveles extremos que permitirían sacarle todo el jugo a Ultimate.\n"
   ]
  }
 ],
 "metadata": {
  "ExecuteTimeLog": [
   {
    "duration": 828,
    "start_time": "2021-11-16T09:21:11.304Z"
   },
   {
    "duration": 893,
    "start_time": "2021-11-16T09:21:17.728Z"
   },
   {
    "duration": 1150,
    "start_time": "2021-11-16T09:21:29.568Z"
   },
   {
    "duration": 3,
    "start_time": "2021-11-16T09:24:14.495Z"
   },
   {
    "duration": 120,
    "start_time": "2021-11-16T09:24:46.630Z"
   },
   {
    "duration": 3,
    "start_time": "2021-11-16T09:28:27.882Z"
   },
   {
    "duration": 4,
    "start_time": "2021-11-16T09:29:54.281Z"
   },
   {
    "duration": 3,
    "start_time": "2021-11-16T09:30:45.936Z"
   },
   {
    "duration": 4,
    "start_time": "2021-11-16T09:31:06.300Z"
   },
   {
    "duration": 113,
    "start_time": "2021-11-16T09:31:37.208Z"
   },
   {
    "duration": 143,
    "start_time": "2021-11-16T09:31:48.656Z"
   },
   {
    "duration": 98,
    "start_time": "2021-11-16T09:31:55.678Z"
   },
   {
    "duration": 3,
    "start_time": "2021-11-16T09:32:08.535Z"
   },
   {
    "duration": 111,
    "start_time": "2021-11-16T09:32:10.120Z"
   },
   {
    "duration": 3,
    "start_time": "2021-11-16T09:32:15.732Z"
   },
   {
    "duration": 4,
    "start_time": "2021-11-16T09:32:29.423Z"
   },
   {
    "duration": 3,
    "start_time": "2021-11-16T10:03:03.074Z"
   },
   {
    "duration": 3,
    "start_time": "2021-11-16T10:10:01.288Z"
   },
   {
    "duration": 3,
    "start_time": "2021-11-16T10:10:46.923Z"
   },
   {
    "duration": 121,
    "start_time": "2021-11-16T10:37:46.494Z"
   },
   {
    "duration": 125,
    "start_time": "2021-11-16T10:38:20.632Z"
   },
   {
    "duration": 112,
    "start_time": "2021-11-16T10:46:53.001Z"
   },
   {
    "duration": 110,
    "start_time": "2021-11-16T10:48:25.775Z"
   },
   {
    "duration": 3,
    "start_time": "2021-11-16T10:50:18.720Z"
   },
   {
    "duration": 4,
    "start_time": "2021-11-16T10:50:37.649Z"
   },
   {
    "duration": 2,
    "start_time": "2021-11-16T10:50:51.884Z"
   },
   {
    "duration": 3,
    "start_time": "2021-11-16T10:51:56.237Z"
   },
   {
    "duration": 101,
    "start_time": "2021-11-16T10:53:13.791Z"
   },
   {
    "duration": 3,
    "start_time": "2021-11-16T10:55:59.186Z"
   },
   {
    "duration": 3,
    "start_time": "2021-11-16T10:56:10.751Z"
   },
   {
    "duration": 3,
    "start_time": "2021-11-16T10:56:49.038Z"
   },
   {
    "duration": 3,
    "start_time": "2021-11-16T10:56:49.174Z"
   },
   {
    "duration": 4,
    "start_time": "2021-11-16T10:56:49.414Z"
   },
   {
    "duration": 3,
    "start_time": "2021-11-16T10:56:49.680Z"
   },
   {
    "duration": 3,
    "start_time": "2021-11-16T10:56:50.370Z"
   },
   {
    "duration": 114,
    "start_time": "2021-11-16T10:59:34.518Z"
   },
   {
    "duration": 3,
    "start_time": "2021-11-16T11:01:41.201Z"
   },
   {
    "duration": 116,
    "start_time": "2021-11-16T11:01:48.754Z"
   },
   {
    "duration": 3,
    "start_time": "2021-11-16T11:02:16.685Z"
   },
   {
    "duration": 3,
    "start_time": "2021-11-16T11:02:19.479Z"
   },
   {
    "duration": 3,
    "start_time": "2021-11-16T11:02:47.067Z"
   },
   {
    "duration": 3,
    "start_time": "2021-11-16T11:02:49.353Z"
   },
   {
    "duration": 3,
    "start_time": "2021-11-16T11:03:07.835Z"
   },
   {
    "duration": 3,
    "start_time": "2021-11-16T11:03:07.953Z"
   },
   {
    "duration": 112,
    "start_time": "2021-11-16T11:07:52.072Z"
   },
   {
    "duration": 187,
    "start_time": "2021-11-16T11:09:23.468Z"
   },
   {
    "duration": 4,
    "start_time": "2021-11-16T11:10:01.455Z"
   },
   {
    "duration": 3,
    "start_time": "2021-11-16T11:10:05.069Z"
   },
   {
    "duration": 4,
    "start_time": "2021-11-16T11:10:13.376Z"
   },
   {
    "duration": 3,
    "start_time": "2021-11-16T11:10:14.434Z"
   },
   {
    "duration": 3,
    "start_time": "2021-11-16T11:10:22.853Z"
   },
   {
    "duration": 4,
    "start_time": "2021-11-16T11:27:29.279Z"
   },
   {
    "duration": 4,
    "start_time": "2021-11-16T11:29:08.919Z"
   },
   {
    "duration": 118,
    "start_time": "2021-11-16T11:29:46.703Z"
   },
   {
    "duration": 437,
    "start_time": "2021-11-16T11:36:02.181Z"
   },
   {
    "duration": 157,
    "start_time": "2021-11-16T11:36:14.388Z"
   },
   {
    "duration": 207,
    "start_time": "2021-11-16T11:47:15.898Z"
   },
   {
    "duration": 3,
    "start_time": "2021-11-16T11:53:52.092Z"
   },
   {
    "duration": 3,
    "start_time": "2021-11-16T11:53:52.236Z"
   },
   {
    "duration": 3,
    "start_time": "2021-11-16T11:59:12.005Z"
   },
   {
    "duration": 112,
    "start_time": "2021-11-16T12:00:33.446Z"
   },
   {
    "duration": 3,
    "start_time": "2021-11-16T12:02:14.453Z"
   },
   {
    "duration": 3,
    "start_time": "2021-11-16T12:02:39.512Z"
   },
   {
    "duration": 106,
    "start_time": "2021-11-16T12:03:03.460Z"
   },
   {
    "duration": 3,
    "start_time": "2021-11-17T20:37:21.139Z"
   },
   {
    "duration": 3,
    "start_time": "2021-11-17T20:37:22.229Z"
   },
   {
    "duration": 3,
    "start_time": "2021-11-17T20:38:38.806Z"
   },
   {
    "duration": 3,
    "start_time": "2021-11-17T20:38:41.958Z"
   },
   {
    "duration": 3,
    "start_time": "2021-11-17T20:43:46.551Z"
   },
   {
    "duration": 4,
    "start_time": "2021-11-17T20:58:21.835Z"
   },
   {
    "duration": 3,
    "start_time": "2021-11-17T20:59:21.872Z"
   },
   {
    "duration": 4,
    "start_time": "2021-11-17T20:59:45.352Z"
   },
   {
    "duration": 4,
    "start_time": "2021-11-17T20:59:49.646Z"
   },
   {
    "duration": 159,
    "start_time": "2021-11-17T21:02:26.949Z"
   },
   {
    "duration": 3,
    "start_time": "2021-11-17T21:03:53.461Z"
   },
   {
    "duration": 3,
    "start_time": "2021-11-17T21:03:53.694Z"
   },
   {
    "duration": 3,
    "start_time": "2021-11-17T21:05:28.145Z"
   },
   {
    "duration": 116,
    "start_time": "2021-11-17T21:05:57.787Z"
   },
   {
    "duration": 3,
    "start_time": "2021-11-17T21:06:37.993Z"
   },
   {
    "duration": 3,
    "start_time": "2021-11-17T21:06:38.261Z"
   },
   {
    "duration": 3,
    "start_time": "2021-11-17T21:11:54.358Z"
   },
   {
    "duration": 3,
    "start_time": "2021-11-17T21:12:43.846Z"
   },
   {
    "duration": 4,
    "start_time": "2021-11-17T21:13:08.773Z"
   },
   {
    "duration": 3,
    "start_time": "2021-11-17T21:14:44.441Z"
   },
   {
    "duration": 3,
    "start_time": "2021-11-17T21:15:42.059Z"
   },
   {
    "duration": 4,
    "start_time": "2021-11-17T21:15:51.995Z"
   },
   {
    "duration": 3,
    "start_time": "2021-11-17T21:15:53.923Z"
   },
   {
    "duration": 3,
    "start_time": "2021-11-17T21:15:55.282Z"
   },
   {
    "duration": 3,
    "start_time": "2021-11-17T21:16:28.492Z"
   },
   {
    "duration": 3,
    "start_time": "2021-11-17T21:16:32.603Z"
   },
   {
    "duration": 3,
    "start_time": "2021-11-17T21:17:06.941Z"
   },
   {
    "duration": 98,
    "start_time": "2021-11-17T21:18:05.733Z"
   },
   {
    "duration": 4,
    "start_time": "2021-11-17T21:21:35.255Z"
   },
   {
    "duration": 3,
    "start_time": "2021-11-17T21:21:37.804Z"
   },
   {
    "duration": 4,
    "start_time": "2021-11-17T21:23:06.071Z"
   },
   {
    "duration": 3,
    "start_time": "2021-11-17T21:23:24.799Z"
   },
   {
    "duration": 3,
    "start_time": "2021-11-17T21:23:32.591Z"
   },
   {
    "duration": 98,
    "start_time": "2021-11-17T21:28:31.559Z"
   },
   {
    "duration": 3,
    "start_time": "2021-11-17T21:28:45.448Z"
   },
   {
    "duration": 3,
    "start_time": "2021-11-17T21:29:17.303Z"
   },
   {
    "duration": 3,
    "start_time": "2021-11-17T21:29:29.617Z"
   },
   {
    "duration": 3,
    "start_time": "2021-11-17T21:29:32.681Z"
   },
   {
    "duration": 3,
    "start_time": "2021-11-17T21:36:11.474Z"
   },
   {
    "duration": 3,
    "start_time": "2021-11-17T21:36:14.791Z"
   },
   {
    "duration": 3,
    "start_time": "2021-11-17T21:36:53.943Z"
   },
   {
    "duration": 3,
    "start_time": "2021-11-17T21:36:56.165Z"
   },
   {
    "duration": 4,
    "start_time": "2021-11-17T21:37:16.590Z"
   },
   {
    "duration": 3,
    "start_time": "2021-11-17T21:37:22.702Z"
   },
   {
    "duration": 4,
    "start_time": "2021-11-17T21:38:03.479Z"
   },
   {
    "duration": 3,
    "start_time": "2021-11-17T21:38:08.601Z"
   },
   {
    "duration": 3,
    "start_time": "2021-11-17T21:38:12.928Z"
   },
   {
    "duration": 3,
    "start_time": "2021-11-17T21:38:48.896Z"
   },
   {
    "duration": 2,
    "start_time": "2021-11-17T21:38:49.171Z"
   },
   {
    "duration": 4,
    "start_time": "2021-11-17T21:39:57.889Z"
   },
   {
    "duration": 3,
    "start_time": "2021-11-17T21:39:58.057Z"
   },
   {
    "duration": 3,
    "start_time": "2021-11-17T21:41:20.108Z"
   },
   {
    "duration": 3,
    "start_time": "2021-11-17T21:41:20.629Z"
   },
   {
    "duration": 3,
    "start_time": "2021-11-17T21:42:49.136Z"
   },
   {
    "duration": 3,
    "start_time": "2021-11-17T21:43:15.137Z"
   },
   {
    "duration": 4,
    "start_time": "2021-11-17T21:43:16.766Z"
   },
   {
    "duration": 4,
    "start_time": "2021-11-17T21:43:31.711Z"
   },
   {
    "duration": 3,
    "start_time": "2021-11-17T21:43:36.312Z"
   },
   {
    "duration": 4,
    "start_time": "2021-11-17T21:45:08.825Z"
   },
   {
    "duration": 4,
    "start_time": "2021-11-17T21:45:10.119Z"
   },
   {
    "duration": 4,
    "start_time": "2021-11-17T21:45:13.748Z"
   },
   {
    "duration": 3,
    "start_time": "2021-11-17T21:45:22.219Z"
   },
   {
    "duration": 3,
    "start_time": "2021-11-17T21:45:33.412Z"
   },
   {
    "duration": 2,
    "start_time": "2021-11-17T21:46:01.885Z"
   },
   {
    "duration": 3,
    "start_time": "2021-11-17T21:46:03.628Z"
   },
   {
    "duration": 107,
    "start_time": "2021-11-17T21:47:32.512Z"
   },
   {
    "duration": 103,
    "start_time": "2021-11-17T21:50:36.243Z"
   },
   {
    "duration": 3,
    "start_time": "2021-11-18T06:28:31.440Z"
   },
   {
    "duration": 3,
    "start_time": "2021-11-18T06:29:00.168Z"
   },
   {
    "duration": 3,
    "start_time": "2021-11-18T06:31:27.008Z"
   },
   {
    "duration": 2,
    "start_time": "2021-11-18T06:35:34.288Z"
   },
   {
    "duration": 2,
    "start_time": "2021-11-18T06:38:04.527Z"
   }
  ],
  "colab": {
   "provenance": []
  },
  "kernelspec": {
   "display_name": "Python 3 (ipykernel)",
   "language": "python",
   "name": "python3"
  },
  "language_info": {
   "codemirror_mode": {
    "name": "ipython",
    "version": 3
   },
   "file_extension": ".py",
   "mimetype": "text/x-python",
   "name": "python",
   "nbconvert_exporter": "python",
   "pygments_lexer": "ipython3",
   "version": "3.10.18"
  },
  "toc": {
   "base_numbering": 1,
   "nav_menu": {},
   "number_sections": true,
   "sideBar": true,
   "skip_h1_title": false,
   "title_cell": "Table of Contents",
   "title_sidebar": "Contents",
   "toc_cell": false,
   "toc_position": {},
   "toc_section_display": true,
   "toc_window_display": true
  }
 },
 "nbformat": 4,
 "nbformat_minor": 4
}
